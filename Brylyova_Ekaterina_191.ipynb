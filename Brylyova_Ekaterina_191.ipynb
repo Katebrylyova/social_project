{
  "nbformat": 4,
  "nbformat_minor": 0,
  "metadata": {
    "kernelspec": {
      "display_name": "Python 3",
      "language": "python",
      "name": "python3"
    },
    "language_info": {
      "codemirror_mode": {
        "name": "ipython",
        "version": 3
      },
      "file_extension": ".py",
      "mimetype": "text/x-python",
      "name": "python",
      "nbconvert_exporter": "python",
      "pygments_lexer": "ipython3",
      "version": "3.6.8"
    },
    "colab": {
      "name": "Brylyova_Ekaterina_191.ipynb",
      "provenance": [],
      "collapsed_sections": []
    }
  },
  "cells": [
    {
      "cell_type": "markdown",
      "metadata": {
        "id": "qJCliYfieYWl"
      },
      "source": [
        "# Итоговая работа\n",
        "\n",
        "Современные методы анализа данных\n",
        "\n",
        "Брылёва Екатерина, МБД191\n",
        "\n",
        "\n",
        "\n",
        "*Цель работы:*  создание модели, предсказывающей вероятность возникновения интереса к другому человеку для построения отношений, и выявляющей совместимость между двумя людьми в соответствии с их интересами, возрастами, расами и личными характеристиками, такими как привлекательность, чувство юмора и амбициозность, интеллект, искренность.\n",
        "\n",
        "*Ценность прогностической модели* состоит в том, что ее можно использовать в компаниях, специализирующихся на свиданиях и брачных мероприятиях."
      ]
    },
    {
      "cell_type": "code",
      "metadata": {
        "id": "iK9vyDtjeYWp"
      },
      "source": [
        "import pandas as pd\n",
        "from matplotlib import pyplot as plt\n",
        "%matplotlib inline\n",
        "from pylab import rcParams\n",
        "rcParams['figure.figsize'] = 16, 10\n",
        "import numpy as np"
      ],
      "execution_count": null,
      "outputs": []
    },
    {
      "cell_type": "code",
      "metadata": {
        "id": "StKM2oqneYXA"
      },
      "source": [
        "import seaborn as sns # красивые графики\n",
        "sns.set(color_codes=True)"
      ],
      "execution_count": null,
      "outputs": []
    },
    {
      "cell_type": "code",
      "metadata": {
        "id": "2JRLUcTvrZja",
        "colab": {
          "base_uri": "https://localhost:8080/",
          "height": 122
        },
        "outputId": "da60f672-c451-4476-9288-89ed3a815644"
      },
      "source": [
        "from google.colab import drive\n",
        "drive.mount('/content/gdrive')"
      ],
      "execution_count": null,
      "outputs": [
        {
          "output_type": "stream",
          "text": [
            "Go to this URL in a browser: https://accounts.google.com/o/oauth2/auth?client_id=947318989803-6bn6qk8qdgf4n4g3pfee6491hc0brc4i.apps.googleusercontent.com&redirect_uri=urn%3aietf%3awg%3aoauth%3a2.0%3aoob&response_type=code&scope=email%20https%3a%2f%2fwww.googleapis.com%2fauth%2fdocs.test%20https%3a%2f%2fwww.googleapis.com%2fauth%2fdrive%20https%3a%2f%2fwww.googleapis.com%2fauth%2fdrive.photos.readonly%20https%3a%2f%2fwww.googleapis.com%2fauth%2fpeopleapi.readonly\n",
            "\n",
            "Enter your authorization code:\n",
            "··········\n",
            "Mounted at /content/gdrive\n"
          ],
          "name": "stdout"
        }
      ]
    },
    {
      "cell_type": "code",
      "metadata": {
        "id": "iKaVN1HusQdi",
        "colab": {
          "base_uri": "https://localhost:8080/",
          "height": 71
        },
        "outputId": "64af9161-03aa-415d-88bd-86b909fe10f9"
      },
      "source": [
        "import pandas as pd\n",
        "dataset=pd.read_csv('gdrive/My Drive/Colab Notebooks/speeddating_data.csv')"
      ],
      "execution_count": null,
      "outputs": [
        {
          "output_type": "stream",
          "text": [
            "/usr/local/lib/python3.6/dist-packages/IPython/core/interactiveshell.py:2718: DtypeWarning: Columns (3,10,11,15,16,17,18,19,39,40,41,42,43,44,51,52,53,54,55,73,74,75,76,77,78,79,80,81,82,83,84,85,86,87,88,89,107,109) have mixed types. Specify dtype option on import or set low_memory=False.\n",
            "  interactivity=interactivity, compiler=compiler, result=result)\n"
          ],
          "name": "stderr"
        }
      ]
    },
    {
      "cell_type": "markdown",
      "metadata": {
        "id": "_bJha9bBuYwj"
      },
      "source": [
        "# 1.   Описание и обработка данных\n",
        "\n",
        "\n",
        "\n",
        "\n"
      ]
    },
    {
      "cell_type": "markdown",
      "metadata": {
        "id": "mva0ByyishLd"
      },
      "source": [
        "Данные были получены от участников экспериментальных так называемых \"быстрых свиданий\".\n",
        "\n",
        "Быстрое свидание или speed dating - это четырехминутное «первое свидание» с другим участником противоположного пола. В конце встречи участников спросили, хотели бы они встретиться снова. Кроме того, их попросили заполнить анкеты с личными данными и оценить свидание по шести признакам: привлекательность, искренность, интеллект, веселье, амбиции и общие интересы. Личная информация включает в себя такие характеристики, как демография, поведение на свидании, самовосприятие по ключевым признакам, мнение о том, что является ценным в браке и образе жизни."
      ]
    },
    {
      "cell_type": "code",
      "metadata": {
        "id": "X5rbTXk4tvKP",
        "colab": {
          "base_uri": "https://localhost:8080/",
          "height": 423
        },
        "outputId": "6535f1ba-d829-4227-e7e7-92300f3c6cff"
      },
      "source": [
        "dataset.head()"
      ],
      "execution_count": null,
      "outputs": [
        {
          "output_type": "execute_result",
          "data": {
            "text/html": [
              "<div>\n",
              "<style scoped>\n",
              "    .dataframe tbody tr th:only-of-type {\n",
              "        vertical-align: middle;\n",
              "    }\n",
              "\n",
              "    .dataframe tbody tr th {\n",
              "        vertical-align: top;\n",
              "    }\n",
              "\n",
              "    .dataframe thead th {\n",
              "        text-align: right;\n",
              "    }\n",
              "</style>\n",
              "<table border=\"1\" class=\"dataframe\">\n",
              "  <thead>\n",
              "    <tr style=\"text-align: right;\">\n",
              "      <th></th>\n",
              "      <th>has_null</th>\n",
              "      <th>wave</th>\n",
              "      <th>gender</th>\n",
              "      <th>age</th>\n",
              "      <th>age_o</th>\n",
              "      <th>d_age</th>\n",
              "      <th>d_d_age</th>\n",
              "      <th>race</th>\n",
              "      <th>race_o</th>\n",
              "      <th>samerace</th>\n",
              "      <th>importance_same_race</th>\n",
              "      <th>importance_same_religion</th>\n",
              "      <th>d_importance_same_race</th>\n",
              "      <th>d_importance_same_religion</th>\n",
              "      <th>field</th>\n",
              "      <th>pref_o_attractive</th>\n",
              "      <th>pref_o_sincere</th>\n",
              "      <th>pref_o_intelligence</th>\n",
              "      <th>pref_o_funny</th>\n",
              "      <th>pref_o_ambitious</th>\n",
              "      <th>pref_o_shared_interests</th>\n",
              "      <th>d_pref_o_attractive</th>\n",
              "      <th>d_pref_o_sincere</th>\n",
              "      <th>d_pref_o_intelligence</th>\n",
              "      <th>d_pref_o_funny</th>\n",
              "      <th>d_pref_o_ambitious</th>\n",
              "      <th>d_pref_o_shared_interests</th>\n",
              "      <th>attractive_o</th>\n",
              "      <th>sinsere_o</th>\n",
              "      <th>intelligence_o</th>\n",
              "      <th>funny_o</th>\n",
              "      <th>ambitous_o</th>\n",
              "      <th>shared_interests_o</th>\n",
              "      <th>d_attractive_o</th>\n",
              "      <th>d_sinsere_o</th>\n",
              "      <th>d_intelligence_o</th>\n",
              "      <th>d_funny_o</th>\n",
              "      <th>d_ambitous_o</th>\n",
              "      <th>d_shared_interests_o</th>\n",
              "      <th>attractive_important</th>\n",
              "      <th>...</th>\n",
              "      <th>tv</th>\n",
              "      <th>theater</th>\n",
              "      <th>movies</th>\n",
              "      <th>concerts</th>\n",
              "      <th>music</th>\n",
              "      <th>shopping</th>\n",
              "      <th>yoga</th>\n",
              "      <th>d_sports</th>\n",
              "      <th>d_tvsports</th>\n",
              "      <th>d_exercise</th>\n",
              "      <th>d_dining</th>\n",
              "      <th>d_museums</th>\n",
              "      <th>d_art</th>\n",
              "      <th>d_hiking</th>\n",
              "      <th>d_gaming</th>\n",
              "      <th>d_clubbing</th>\n",
              "      <th>d_reading</th>\n",
              "      <th>d_tv</th>\n",
              "      <th>d_theater</th>\n",
              "      <th>d_movies</th>\n",
              "      <th>d_concerts</th>\n",
              "      <th>d_music</th>\n",
              "      <th>d_shopping</th>\n",
              "      <th>d_yoga</th>\n",
              "      <th>interests_correlate</th>\n",
              "      <th>d_interests_correlate</th>\n",
              "      <th>expected_happy_with_sd_people</th>\n",
              "      <th>expected_num_interested_in_me</th>\n",
              "      <th>expected_num_matches</th>\n",
              "      <th>d_expected_happy_with_sd_people</th>\n",
              "      <th>d_expected_num_interested_in_me</th>\n",
              "      <th>d_expected_num_matches</th>\n",
              "      <th>like</th>\n",
              "      <th>guess_prob_liked</th>\n",
              "      <th>d_like</th>\n",
              "      <th>d_guess_prob_liked</th>\n",
              "      <th>met</th>\n",
              "      <th>decision</th>\n",
              "      <th>decision_o</th>\n",
              "      <th>match</th>\n",
              "    </tr>\n",
              "  </thead>\n",
              "  <tbody>\n",
              "    <tr>\n",
              "      <th>0</th>\n",
              "      <td>0</td>\n",
              "      <td>1</td>\n",
              "      <td>0</td>\n",
              "      <td>21</td>\n",
              "      <td>27</td>\n",
              "      <td>6</td>\n",
              "      <td>[4-6]</td>\n",
              "      <td>'Asian/Pacific Islander/Asian-American'</td>\n",
              "      <td>European/Caucasian-American</td>\n",
              "      <td>0</td>\n",
              "      <td>2</td>\n",
              "      <td>4</td>\n",
              "      <td>[2-5]</td>\n",
              "      <td>[2-5]</td>\n",
              "      <td>Law</td>\n",
              "      <td>35</td>\n",
              "      <td>20</td>\n",
              "      <td>20</td>\n",
              "      <td>20</td>\n",
              "      <td>0</td>\n",
              "      <td>5</td>\n",
              "      <td>[21-100]</td>\n",
              "      <td>[16-20]</td>\n",
              "      <td>[16-20]</td>\n",
              "      <td>[16-20]</td>\n",
              "      <td>[0-15]</td>\n",
              "      <td>[0-15]</td>\n",
              "      <td>6</td>\n",
              "      <td>8</td>\n",
              "      <td>8</td>\n",
              "      <td>8</td>\n",
              "      <td>8</td>\n",
              "      <td>6</td>\n",
              "      <td>[6-8]</td>\n",
              "      <td>[6-8]</td>\n",
              "      <td>[6-8]</td>\n",
              "      <td>[6-8]</td>\n",
              "      <td>[6-8]</td>\n",
              "      <td>[6-8]</td>\n",
              "      <td>15</td>\n",
              "      <td>...</td>\n",
              "      <td>9</td>\n",
              "      <td>1</td>\n",
              "      <td>10</td>\n",
              "      <td>10</td>\n",
              "      <td>9</td>\n",
              "      <td>8</td>\n",
              "      <td>1</td>\n",
              "      <td>[9-10]</td>\n",
              "      <td>[0-5]</td>\n",
              "      <td>[6-8]</td>\n",
              "      <td>[9-10]</td>\n",
              "      <td>[0-5]</td>\n",
              "      <td>[0-5]</td>\n",
              "      <td>[0-5]</td>\n",
              "      <td>[0-5]</td>\n",
              "      <td>[0-5]</td>\n",
              "      <td>[6-8]</td>\n",
              "      <td>[9-10]</td>\n",
              "      <td>[0-5]</td>\n",
              "      <td>[9-10]</td>\n",
              "      <td>[9-10]</td>\n",
              "      <td>[9-10]</td>\n",
              "      <td>[6-8]</td>\n",
              "      <td>[0-5]</td>\n",
              "      <td>0.14</td>\n",
              "      <td>[0-0.33]</td>\n",
              "      <td>3</td>\n",
              "      <td>2</td>\n",
              "      <td>4</td>\n",
              "      <td>[0-4]</td>\n",
              "      <td>[0-3]</td>\n",
              "      <td>[3-5]</td>\n",
              "      <td>7</td>\n",
              "      <td>6</td>\n",
              "      <td>[6-8]</td>\n",
              "      <td>[5-6]</td>\n",
              "      <td>0</td>\n",
              "      <td>1</td>\n",
              "      <td>0</td>\n",
              "      <td>0</td>\n",
              "    </tr>\n",
              "    <tr>\n",
              "      <th>1</th>\n",
              "      <td>0</td>\n",
              "      <td>1</td>\n",
              "      <td>0</td>\n",
              "      <td>21</td>\n",
              "      <td>22</td>\n",
              "      <td>1</td>\n",
              "      <td>[0-1]</td>\n",
              "      <td>'Asian/Pacific Islander/Asian-American'</td>\n",
              "      <td>European/Caucasian-American</td>\n",
              "      <td>0</td>\n",
              "      <td>2</td>\n",
              "      <td>4</td>\n",
              "      <td>[2-5]</td>\n",
              "      <td>[2-5]</td>\n",
              "      <td>Law</td>\n",
              "      <td>60</td>\n",
              "      <td>0</td>\n",
              "      <td>0</td>\n",
              "      <td>40</td>\n",
              "      <td>0</td>\n",
              "      <td>0</td>\n",
              "      <td>[21-100]</td>\n",
              "      <td>[0-15]</td>\n",
              "      <td>[0-15]</td>\n",
              "      <td>[21-100]</td>\n",
              "      <td>[0-15]</td>\n",
              "      <td>[0-15]</td>\n",
              "      <td>7</td>\n",
              "      <td>8</td>\n",
              "      <td>10</td>\n",
              "      <td>7</td>\n",
              "      <td>7</td>\n",
              "      <td>5</td>\n",
              "      <td>[6-8]</td>\n",
              "      <td>[6-8]</td>\n",
              "      <td>[9-10]</td>\n",
              "      <td>[6-8]</td>\n",
              "      <td>[6-8]</td>\n",
              "      <td>[0-5]</td>\n",
              "      <td>15</td>\n",
              "      <td>...</td>\n",
              "      <td>9</td>\n",
              "      <td>1</td>\n",
              "      <td>10</td>\n",
              "      <td>10</td>\n",
              "      <td>9</td>\n",
              "      <td>8</td>\n",
              "      <td>1</td>\n",
              "      <td>[9-10]</td>\n",
              "      <td>[0-5]</td>\n",
              "      <td>[6-8]</td>\n",
              "      <td>[9-10]</td>\n",
              "      <td>[0-5]</td>\n",
              "      <td>[0-5]</td>\n",
              "      <td>[0-5]</td>\n",
              "      <td>[0-5]</td>\n",
              "      <td>[0-5]</td>\n",
              "      <td>[6-8]</td>\n",
              "      <td>[9-10]</td>\n",
              "      <td>[0-5]</td>\n",
              "      <td>[9-10]</td>\n",
              "      <td>[9-10]</td>\n",
              "      <td>[9-10]</td>\n",
              "      <td>[6-8]</td>\n",
              "      <td>[0-5]</td>\n",
              "      <td>0.54</td>\n",
              "      <td>[0.33-1]</td>\n",
              "      <td>3</td>\n",
              "      <td>2</td>\n",
              "      <td>4</td>\n",
              "      <td>[0-4]</td>\n",
              "      <td>[0-3]</td>\n",
              "      <td>[3-5]</td>\n",
              "      <td>7</td>\n",
              "      <td>5</td>\n",
              "      <td>[6-8]</td>\n",
              "      <td>[5-6]</td>\n",
              "      <td>1</td>\n",
              "      <td>1</td>\n",
              "      <td>0</td>\n",
              "      <td>0</td>\n",
              "    </tr>\n",
              "    <tr>\n",
              "      <th>2</th>\n",
              "      <td>1</td>\n",
              "      <td>1</td>\n",
              "      <td>0</td>\n",
              "      <td>21</td>\n",
              "      <td>22</td>\n",
              "      <td>1</td>\n",
              "      <td>[0-1]</td>\n",
              "      <td>'Asian/Pacific Islander/Asian-American'</td>\n",
              "      <td>'Asian/Pacific Islander/Asian-American'</td>\n",
              "      <td>1</td>\n",
              "      <td>2</td>\n",
              "      <td>4</td>\n",
              "      <td>[2-5]</td>\n",
              "      <td>[2-5]</td>\n",
              "      <td>Law</td>\n",
              "      <td>19</td>\n",
              "      <td>18</td>\n",
              "      <td>19</td>\n",
              "      <td>18</td>\n",
              "      <td>14</td>\n",
              "      <td>12</td>\n",
              "      <td>[16-20]</td>\n",
              "      <td>[16-20]</td>\n",
              "      <td>[16-20]</td>\n",
              "      <td>[16-20]</td>\n",
              "      <td>[0-15]</td>\n",
              "      <td>[0-15]</td>\n",
              "      <td>10</td>\n",
              "      <td>10</td>\n",
              "      <td>10</td>\n",
              "      <td>10</td>\n",
              "      <td>10</td>\n",
              "      <td>10</td>\n",
              "      <td>[9-10]</td>\n",
              "      <td>[9-10]</td>\n",
              "      <td>[9-10]</td>\n",
              "      <td>[9-10]</td>\n",
              "      <td>[9-10]</td>\n",
              "      <td>[9-10]</td>\n",
              "      <td>15</td>\n",
              "      <td>...</td>\n",
              "      <td>9</td>\n",
              "      <td>1</td>\n",
              "      <td>10</td>\n",
              "      <td>10</td>\n",
              "      <td>9</td>\n",
              "      <td>8</td>\n",
              "      <td>1</td>\n",
              "      <td>[9-10]</td>\n",
              "      <td>[0-5]</td>\n",
              "      <td>[6-8]</td>\n",
              "      <td>[9-10]</td>\n",
              "      <td>[0-5]</td>\n",
              "      <td>[0-5]</td>\n",
              "      <td>[0-5]</td>\n",
              "      <td>[0-5]</td>\n",
              "      <td>[0-5]</td>\n",
              "      <td>[6-8]</td>\n",
              "      <td>[9-10]</td>\n",
              "      <td>[0-5]</td>\n",
              "      <td>[9-10]</td>\n",
              "      <td>[9-10]</td>\n",
              "      <td>[9-10]</td>\n",
              "      <td>[6-8]</td>\n",
              "      <td>[0-5]</td>\n",
              "      <td>0.16</td>\n",
              "      <td>[0-0.33]</td>\n",
              "      <td>3</td>\n",
              "      <td>2</td>\n",
              "      <td>4</td>\n",
              "      <td>[0-4]</td>\n",
              "      <td>[0-3]</td>\n",
              "      <td>[3-5]</td>\n",
              "      <td>7</td>\n",
              "      <td>?</td>\n",
              "      <td>[6-8]</td>\n",
              "      <td>[0-4]</td>\n",
              "      <td>1</td>\n",
              "      <td>1</td>\n",
              "      <td>1</td>\n",
              "      <td>1</td>\n",
              "    </tr>\n",
              "    <tr>\n",
              "      <th>3</th>\n",
              "      <td>0</td>\n",
              "      <td>1</td>\n",
              "      <td>0</td>\n",
              "      <td>21</td>\n",
              "      <td>23</td>\n",
              "      <td>2</td>\n",
              "      <td>[2-3]</td>\n",
              "      <td>'Asian/Pacific Islander/Asian-American'</td>\n",
              "      <td>European/Caucasian-American</td>\n",
              "      <td>0</td>\n",
              "      <td>2</td>\n",
              "      <td>4</td>\n",
              "      <td>[2-5]</td>\n",
              "      <td>[2-5]</td>\n",
              "      <td>Law</td>\n",
              "      <td>30</td>\n",
              "      <td>5</td>\n",
              "      <td>15</td>\n",
              "      <td>40</td>\n",
              "      <td>5</td>\n",
              "      <td>5</td>\n",
              "      <td>[21-100]</td>\n",
              "      <td>[0-15]</td>\n",
              "      <td>[0-15]</td>\n",
              "      <td>[21-100]</td>\n",
              "      <td>[0-15]</td>\n",
              "      <td>[0-15]</td>\n",
              "      <td>7</td>\n",
              "      <td>8</td>\n",
              "      <td>9</td>\n",
              "      <td>8</td>\n",
              "      <td>9</td>\n",
              "      <td>8</td>\n",
              "      <td>[6-8]</td>\n",
              "      <td>[6-8]</td>\n",
              "      <td>[9-10]</td>\n",
              "      <td>[6-8]</td>\n",
              "      <td>[9-10]</td>\n",
              "      <td>[6-8]</td>\n",
              "      <td>15</td>\n",
              "      <td>...</td>\n",
              "      <td>9</td>\n",
              "      <td>1</td>\n",
              "      <td>10</td>\n",
              "      <td>10</td>\n",
              "      <td>9</td>\n",
              "      <td>8</td>\n",
              "      <td>1</td>\n",
              "      <td>[9-10]</td>\n",
              "      <td>[0-5]</td>\n",
              "      <td>[6-8]</td>\n",
              "      <td>[9-10]</td>\n",
              "      <td>[0-5]</td>\n",
              "      <td>[0-5]</td>\n",
              "      <td>[0-5]</td>\n",
              "      <td>[0-5]</td>\n",
              "      <td>[0-5]</td>\n",
              "      <td>[6-8]</td>\n",
              "      <td>[9-10]</td>\n",
              "      <td>[0-5]</td>\n",
              "      <td>[9-10]</td>\n",
              "      <td>[9-10]</td>\n",
              "      <td>[9-10]</td>\n",
              "      <td>[6-8]</td>\n",
              "      <td>[0-5]</td>\n",
              "      <td>0.61</td>\n",
              "      <td>[0.33-1]</td>\n",
              "      <td>3</td>\n",
              "      <td>2</td>\n",
              "      <td>4</td>\n",
              "      <td>[0-4]</td>\n",
              "      <td>[0-3]</td>\n",
              "      <td>[3-5]</td>\n",
              "      <td>7</td>\n",
              "      <td>6</td>\n",
              "      <td>[6-8]</td>\n",
              "      <td>[5-6]</td>\n",
              "      <td>0</td>\n",
              "      <td>1</td>\n",
              "      <td>1</td>\n",
              "      <td>1</td>\n",
              "    </tr>\n",
              "    <tr>\n",
              "      <th>4</th>\n",
              "      <td>0</td>\n",
              "      <td>1</td>\n",
              "      <td>0</td>\n",
              "      <td>21</td>\n",
              "      <td>24</td>\n",
              "      <td>3</td>\n",
              "      <td>[2-3]</td>\n",
              "      <td>'Asian/Pacific Islander/Asian-American'</td>\n",
              "      <td>'Latino/Hispanic American'</td>\n",
              "      <td>0</td>\n",
              "      <td>2</td>\n",
              "      <td>4</td>\n",
              "      <td>[2-5]</td>\n",
              "      <td>[2-5]</td>\n",
              "      <td>Law</td>\n",
              "      <td>30</td>\n",
              "      <td>10</td>\n",
              "      <td>20</td>\n",
              "      <td>10</td>\n",
              "      <td>10</td>\n",
              "      <td>20</td>\n",
              "      <td>[21-100]</td>\n",
              "      <td>[0-15]</td>\n",
              "      <td>[16-20]</td>\n",
              "      <td>[0-15]</td>\n",
              "      <td>[0-15]</td>\n",
              "      <td>[16-20]</td>\n",
              "      <td>8</td>\n",
              "      <td>7</td>\n",
              "      <td>9</td>\n",
              "      <td>6</td>\n",
              "      <td>9</td>\n",
              "      <td>7</td>\n",
              "      <td>[6-8]</td>\n",
              "      <td>[6-8]</td>\n",
              "      <td>[9-10]</td>\n",
              "      <td>[6-8]</td>\n",
              "      <td>[9-10]</td>\n",
              "      <td>[6-8]</td>\n",
              "      <td>15</td>\n",
              "      <td>...</td>\n",
              "      <td>9</td>\n",
              "      <td>1</td>\n",
              "      <td>10</td>\n",
              "      <td>10</td>\n",
              "      <td>9</td>\n",
              "      <td>8</td>\n",
              "      <td>1</td>\n",
              "      <td>[9-10]</td>\n",
              "      <td>[0-5]</td>\n",
              "      <td>[6-8]</td>\n",
              "      <td>[9-10]</td>\n",
              "      <td>[0-5]</td>\n",
              "      <td>[0-5]</td>\n",
              "      <td>[0-5]</td>\n",
              "      <td>[0-5]</td>\n",
              "      <td>[0-5]</td>\n",
              "      <td>[6-8]</td>\n",
              "      <td>[9-10]</td>\n",
              "      <td>[0-5]</td>\n",
              "      <td>[9-10]</td>\n",
              "      <td>[9-10]</td>\n",
              "      <td>[9-10]</td>\n",
              "      <td>[6-8]</td>\n",
              "      <td>[0-5]</td>\n",
              "      <td>0.21</td>\n",
              "      <td>[0-0.33]</td>\n",
              "      <td>3</td>\n",
              "      <td>2</td>\n",
              "      <td>4</td>\n",
              "      <td>[0-4]</td>\n",
              "      <td>[0-3]</td>\n",
              "      <td>[3-5]</td>\n",
              "      <td>6</td>\n",
              "      <td>6</td>\n",
              "      <td>[6-8]</td>\n",
              "      <td>[5-6]</td>\n",
              "      <td>0</td>\n",
              "      <td>1</td>\n",
              "      <td>1</td>\n",
              "      <td>1</td>\n",
              "    </tr>\n",
              "  </tbody>\n",
              "</table>\n",
              "<p>5 rows × 123 columns</p>\n",
              "</div>"
            ],
            "text/plain": [
              "   has_null  wave  gender age  ... met  decision decision_o match\n",
              "0         0     1       0  21  ...   0         1          0     0\n",
              "1         0     1       0  21  ...   1         1          0     0\n",
              "2         1     1       0  21  ...   1         1          1     1\n",
              "3         0     1       0  21  ...   0         1          1     1\n",
              "4         0     1       0  21  ...   0         1          1     1\n",
              "\n",
              "[5 rows x 123 columns]"
            ]
          },
          "metadata": {
            "tags": []
          },
          "execution_count": 18
        }
      ]
    },
    {
      "cell_type": "markdown",
      "metadata": {
        "id": "3fqyJk_fzS68"
      },
      "source": [
        "##Первичная чистка данных\n",
        "\n",
        "Всего 8378 наблюдений (человек): 50% из них мужчины, 50% - женщины. \n",
        "Ниже представлено описание наиболее **интересных** из 123 переменных. Сократили число столбцов до 45. \n"
      ]
    },
    {
      "cell_type": "markdown",
      "metadata": {
        "id": "oYEK5D0DSC9N"
      },
      "source": [
        "**gender**: *female or male*\n",
        "\n",
        "**age**: *age of the respondent*\n",
        "\n",
        "**age_o**: *age of the partner*\n",
        "\n",
        "**diff_age**: *difference in age of two dating people*\n",
        "\n",
        "**race**: *race of the respondent*\n",
        "\n",
        "**race_o**: *race of the partner* \n",
        "\n",
        "**samerace**: *1 if race is the same, 0 - opposite*\n",
        "\n",
        "**importance_samerace**: *is the same race important? Scale from 0 to 10*\n",
        "\n",
        "**importance_samereligion**: *is the same religion important? Scale from 0 to 10* \n",
        "\n",
        "**field**: *in which sphere the respondent works? 221 spheres*\n",
        "\n",
        "**pref_o_attractive**: *how important does partner rate attractiveness? Scale from 0 to 100* \n",
        "\n",
        "**pref_o_sincere**: *how important does partner rate sincerity? Scale from 0 to 100* \n",
        "\n",
        "**pref_o_intelligence**: *how important does partner rate intelligence? Scale from 0 to 100*  \n",
        "\n",
        "**pref_o_funny**: *how important does partner rate being funny? Scale from 0 to 100*\n",
        "\n",
        "**pref_o_ambitious**: *how important does partner rate being ambitious? Scale from 0 to 100*  \n",
        "\n",
        "**pref_o_shared_interests**: *how important does partner rate having shared interests? Scale from 0 to 100* \n",
        "\n",
        "**attractive_o**: *how partner rated my attractiveness? Scale from 0 to 10*  \n",
        "\n",
        "**sinsere_o**: *how partner rated my sincerity? Scale from 0 to 10*  \n",
        "\n",
        "**intelligence_o**: *how partner rated my intelligence? Scale from 0 to 10*  \n",
        "\n",
        "**funny_o**: *how partner rated me being fun? Scale from 0 to 10*  \n",
        "\n",
        "**ambitous_o**: *how partner rated me being ambitious? Scale from 0 to 10* \n",
        "\n",
        "**shared_interests_o**: *how partner rated our shared interests? Scale from 0 to 10*  \n",
        "\n",
        "**attractive_important**: *how important do you rate attractiveness? Scale from 0 to 100*  \n",
        "\n",
        "**sincere_important**: *how important do you sincerity? Scale from 0 to 100*  \n",
        "\n",
        "**intelligence_important**: *how important do you rate intelligence? Scale from 0 to 100*  \n",
        "\n",
        "**funny_important**: *how important do you rate being funny? Scale from 0 to 100*  \n",
        "\n",
        "**ambtition_important**: *how important do you rate being ambitious? Scale from 0 to 100*  \n",
        "\n",
        "**shared_interests_important**: *how important do you rate having the shared interests? Scale from 0 to 100*  \n",
        "\n",
        "**attractive**: *self-rate, scale from 0 to 10*  \n",
        "\n",
        "**sincere**: *self-rate, scale from 0 to 10*  \n",
        "\n",
        "**intelligence**: *self-rate, scale from 0 to 10*  \n",
        "\n",
        "**funny**: *self-rate, scale from 0 to 10*  \n",
        "\n",
        "**ambition**: *self-rate, scale from 0 to 10*  \n",
        "\n",
        "**attractive_partner**: *rate your partner, scale from 0 to 10*  \n",
        "\n",
        "**sincere_partner**: *rate your partner, scale from 0 to 10* \n",
        "\n",
        "**intelligence_partner**: *rate your partner, scale from 0 to 10* \n",
        "\n",
        "**funny_partner**: *rate your partner, scale from 0 to 10*\n",
        "\n",
        "**ambition_partner**: *rate your partner, scale from 0 to 10* \n",
        "\n",
        "**interests_correlate**: *correlation of the interests* \n",
        "\n",
        "**like**: *did you like your partner? Scale from 0 to 10*  \n",
        "\n",
        "**guess_prob_liked**: *probability that partner liked you, scale from 0 to 10* \n",
        "\n",
        "**met**: *how many times you met before?* \n",
        "\n",
        "**decision**: *dummy: 1 if you want to meet again, 0 - opposite* \n",
        "\n",
        "**decision_o**: *dummy: 1 if partner wants to meet again, 0 - opposite* \n",
        "\n",
        "**match**: *dummy: 1 if the couple match, 0 - opposit*"
      ]
    },
    {
      "cell_type": "code",
      "metadata": {
        "id": "Yn6JQVTdz6HL",
        "colab": {
          "base_uri": "https://localhost:8080/",
          "height": 456
        },
        "outputId": "1c1ef70e-8b62-4878-ea9a-8d6c41519b85"
      },
      "source": [
        "dataset.describe(include='all')"
      ],
      "execution_count": null,
      "outputs": [
        {
          "output_type": "execute_result",
          "data": {
            "text/html": [
              "<div>\n",
              "<style scoped>\n",
              "    .dataframe tbody tr th:only-of-type {\n",
              "        vertical-align: middle;\n",
              "    }\n",
              "\n",
              "    .dataframe tbody tr th {\n",
              "        vertical-align: top;\n",
              "    }\n",
              "\n",
              "    .dataframe thead th {\n",
              "        text-align: right;\n",
              "    }\n",
              "</style>\n",
              "<table border=\"1\" class=\"dataframe\">\n",
              "  <thead>\n",
              "    <tr style=\"text-align: right;\">\n",
              "      <th></th>\n",
              "      <th>has_null</th>\n",
              "      <th>wave</th>\n",
              "      <th>gender</th>\n",
              "      <th>age</th>\n",
              "      <th>age_o</th>\n",
              "      <th>d_age</th>\n",
              "      <th>d_d_age</th>\n",
              "      <th>race</th>\n",
              "      <th>race_o</th>\n",
              "      <th>samerace</th>\n",
              "      <th>importance_same_race</th>\n",
              "      <th>importance_same_religion</th>\n",
              "      <th>d_importance_same_race</th>\n",
              "      <th>d_importance_same_religion</th>\n",
              "      <th>field</th>\n",
              "      <th>pref_o_attractive</th>\n",
              "      <th>pref_o_sincere</th>\n",
              "      <th>pref_o_intelligence</th>\n",
              "      <th>pref_o_funny</th>\n",
              "      <th>pref_o_ambitious</th>\n",
              "      <th>pref_o_shared_interests</th>\n",
              "      <th>d_pref_o_attractive</th>\n",
              "      <th>d_pref_o_sincere</th>\n",
              "      <th>d_pref_o_intelligence</th>\n",
              "      <th>d_pref_o_funny</th>\n",
              "      <th>d_pref_o_ambitious</th>\n",
              "      <th>d_pref_o_shared_interests</th>\n",
              "      <th>attractive_o</th>\n",
              "      <th>sinsere_o</th>\n",
              "      <th>intelligence_o</th>\n",
              "      <th>funny_o</th>\n",
              "      <th>ambitous_o</th>\n",
              "      <th>shared_interests_o</th>\n",
              "      <th>d_attractive_o</th>\n",
              "      <th>d_sinsere_o</th>\n",
              "      <th>d_intelligence_o</th>\n",
              "      <th>d_funny_o</th>\n",
              "      <th>d_ambitous_o</th>\n",
              "      <th>d_shared_interests_o</th>\n",
              "      <th>attractive_important</th>\n",
              "      <th>...</th>\n",
              "      <th>tv</th>\n",
              "      <th>theater</th>\n",
              "      <th>movies</th>\n",
              "      <th>concerts</th>\n",
              "      <th>music</th>\n",
              "      <th>shopping</th>\n",
              "      <th>yoga</th>\n",
              "      <th>d_sports</th>\n",
              "      <th>d_tvsports</th>\n",
              "      <th>d_exercise</th>\n",
              "      <th>d_dining</th>\n",
              "      <th>d_museums</th>\n",
              "      <th>d_art</th>\n",
              "      <th>d_hiking</th>\n",
              "      <th>d_gaming</th>\n",
              "      <th>d_clubbing</th>\n",
              "      <th>d_reading</th>\n",
              "      <th>d_tv</th>\n",
              "      <th>d_theater</th>\n",
              "      <th>d_movies</th>\n",
              "      <th>d_concerts</th>\n",
              "      <th>d_music</th>\n",
              "      <th>d_shopping</th>\n",
              "      <th>d_yoga</th>\n",
              "      <th>interests_correlate</th>\n",
              "      <th>d_interests_correlate</th>\n",
              "      <th>expected_happy_with_sd_people</th>\n",
              "      <th>expected_num_interested_in_me</th>\n",
              "      <th>expected_num_matches</th>\n",
              "      <th>d_expected_happy_with_sd_people</th>\n",
              "      <th>d_expected_num_interested_in_me</th>\n",
              "      <th>d_expected_num_matches</th>\n",
              "      <th>like</th>\n",
              "      <th>guess_prob_liked</th>\n",
              "      <th>d_like</th>\n",
              "      <th>d_guess_prob_liked</th>\n",
              "      <th>met</th>\n",
              "      <th>decision</th>\n",
              "      <th>decision_o</th>\n",
              "      <th>match</th>\n",
              "    </tr>\n",
              "  </thead>\n",
              "  <tbody>\n",
              "    <tr>\n",
              "      <th>count</th>\n",
              "      <td>8378.00000</td>\n",
              "      <td>8378.000000</td>\n",
              "      <td>8378</td>\n",
              "      <td>8378</td>\n",
              "      <td>8378</td>\n",
              "      <td>8378.000000</td>\n",
              "      <td>8378</td>\n",
              "      <td>8378</td>\n",
              "      <td>8378</td>\n",
              "      <td>8378.000000</td>\n",
              "      <td>8378</td>\n",
              "      <td>8378</td>\n",
              "      <td>8378</td>\n",
              "      <td>8378</td>\n",
              "      <td>8378</td>\n",
              "      <td>8378</td>\n",
              "      <td>8378</td>\n",
              "      <td>8378</td>\n",
              "      <td>8378</td>\n",
              "      <td>8378</td>\n",
              "      <td>8378</td>\n",
              "      <td>8378</td>\n",
              "      <td>8378</td>\n",
              "      <td>8378</td>\n",
              "      <td>8378</td>\n",
              "      <td>8378</td>\n",
              "      <td>8378</td>\n",
              "      <td>8378</td>\n",
              "      <td>8378</td>\n",
              "      <td>8378</td>\n",
              "      <td>8378</td>\n",
              "      <td>8378</td>\n",
              "      <td>8378</td>\n",
              "      <td>8378</td>\n",
              "      <td>8378</td>\n",
              "      <td>8378</td>\n",
              "      <td>8378</td>\n",
              "      <td>8378</td>\n",
              "      <td>8378</td>\n",
              "      <td>8378</td>\n",
              "      <td>...</td>\n",
              "      <td>8378</td>\n",
              "      <td>8378</td>\n",
              "      <td>8378</td>\n",
              "      <td>8378</td>\n",
              "      <td>8378</td>\n",
              "      <td>8378</td>\n",
              "      <td>8378</td>\n",
              "      <td>8378</td>\n",
              "      <td>8378</td>\n",
              "      <td>8378</td>\n",
              "      <td>8378</td>\n",
              "      <td>8378</td>\n",
              "      <td>8378</td>\n",
              "      <td>8378</td>\n",
              "      <td>8378</td>\n",
              "      <td>8378</td>\n",
              "      <td>8378</td>\n",
              "      <td>8378</td>\n",
              "      <td>8378</td>\n",
              "      <td>8378</td>\n",
              "      <td>8378</td>\n",
              "      <td>8378</td>\n",
              "      <td>8378</td>\n",
              "      <td>8378</td>\n",
              "      <td>8378</td>\n",
              "      <td>8378</td>\n",
              "      <td>8378</td>\n",
              "      <td>8378</td>\n",
              "      <td>8378</td>\n",
              "      <td>8378</td>\n",
              "      <td>8378</td>\n",
              "      <td>8378</td>\n",
              "      <td>8378</td>\n",
              "      <td>8378</td>\n",
              "      <td>8378</td>\n",
              "      <td>8378</td>\n",
              "      <td>8378</td>\n",
              "      <td>8378.000000</td>\n",
              "      <td>8378.000000</td>\n",
              "      <td>8378.000000</td>\n",
              "    </tr>\n",
              "    <tr>\n",
              "      <th>unique</th>\n",
              "      <td>NaN</td>\n",
              "      <td>NaN</td>\n",
              "      <td>2</td>\n",
              "      <td>31</td>\n",
              "      <td>25</td>\n",
              "      <td>NaN</td>\n",
              "      <td>4</td>\n",
              "      <td>6</td>\n",
              "      <td>6</td>\n",
              "      <td>NaN</td>\n",
              "      <td>18</td>\n",
              "      <td>16</td>\n",
              "      <td>3</td>\n",
              "      <td>3</td>\n",
              "      <td>260</td>\n",
              "      <td>102</td>\n",
              "      <td>85</td>\n",
              "      <td>72</td>\n",
              "      <td>78</td>\n",
              "      <td>88</td>\n",
              "      <td>86</td>\n",
              "      <td>3</td>\n",
              "      <td>3</td>\n",
              "      <td>3</td>\n",
              "      <td>3</td>\n",
              "      <td>3</td>\n",
              "      <td>3</td>\n",
              "      <td>19</td>\n",
              "      <td>15</td>\n",
              "      <td>18</td>\n",
              "      <td>18</td>\n",
              "      <td>16</td>\n",
              "      <td>16</td>\n",
              "      <td>3</td>\n",
              "      <td>3</td>\n",
              "      <td>3</td>\n",
              "      <td>3</td>\n",
              "      <td>3</td>\n",
              "      <td>3</td>\n",
              "      <td>102</td>\n",
              "      <td>...</td>\n",
              "      <td>17</td>\n",
              "      <td>18</td>\n",
              "      <td>16</td>\n",
              "      <td>19</td>\n",
              "      <td>16</td>\n",
              "      <td>17</td>\n",
              "      <td>17</td>\n",
              "      <td>3</td>\n",
              "      <td>3</td>\n",
              "      <td>3</td>\n",
              "      <td>3</td>\n",
              "      <td>3</td>\n",
              "      <td>3</td>\n",
              "      <td>3</td>\n",
              "      <td>3</td>\n",
              "      <td>3</td>\n",
              "      <td>3</td>\n",
              "      <td>3</td>\n",
              "      <td>3</td>\n",
              "      <td>3</td>\n",
              "      <td>3</td>\n",
              "      <td>3</td>\n",
              "      <td>3</td>\n",
              "      <td>3</td>\n",
              "      <td>250</td>\n",
              "      <td>3</td>\n",
              "      <td>17</td>\n",
              "      <td>19</td>\n",
              "      <td>18</td>\n",
              "      <td>3</td>\n",
              "      <td>3</td>\n",
              "      <td>3</td>\n",
              "      <td>19</td>\n",
              "      <td>20</td>\n",
              "      <td>3</td>\n",
              "      <td>3</td>\n",
              "      <td>8</td>\n",
              "      <td>NaN</td>\n",
              "      <td>NaN</td>\n",
              "      <td>NaN</td>\n",
              "    </tr>\n",
              "    <tr>\n",
              "      <th>top</th>\n",
              "      <td>NaN</td>\n",
              "      <td>NaN</td>\n",
              "      <td>male</td>\n",
              "      <td>27</td>\n",
              "      <td>27</td>\n",
              "      <td>NaN</td>\n",
              "      <td>[2-3]</td>\n",
              "      <td>European/Caucasian-American</td>\n",
              "      <td>European/Caucasian-American</td>\n",
              "      <td>NaN</td>\n",
              "      <td>1</td>\n",
              "      <td>1</td>\n",
              "      <td>[2-5]</td>\n",
              "      <td>[0-1]</td>\n",
              "      <td>Business</td>\n",
              "      <td>20</td>\n",
              "      <td>20</td>\n",
              "      <td>20</td>\n",
              "      <td>20</td>\n",
              "      <td>10</td>\n",
              "      <td>10</td>\n",
              "      <td>[21-100]</td>\n",
              "      <td>[16-20]</td>\n",
              "      <td>[16-20]</td>\n",
              "      <td>[16-20]</td>\n",
              "      <td>[0-15]</td>\n",
              "      <td>[0-15]</td>\n",
              "      <td>6</td>\n",
              "      <td>8</td>\n",
              "      <td>8</td>\n",
              "      <td>7</td>\n",
              "      <td>7</td>\n",
              "      <td>5</td>\n",
              "      <td>[6-8]</td>\n",
              "      <td>[6-8]</td>\n",
              "      <td>[6-8]</td>\n",
              "      <td>[6-8]</td>\n",
              "      <td>[6-8]</td>\n",
              "      <td>[0-5]</td>\n",
              "      <td>20</td>\n",
              "      <td>...</td>\n",
              "      <td>6</td>\n",
              "      <td>7</td>\n",
              "      <td>8</td>\n",
              "      <td>7</td>\n",
              "      <td>10</td>\n",
              "      <td>7</td>\n",
              "      <td>1</td>\n",
              "      <td>[6-8]</td>\n",
              "      <td>[0-5]</td>\n",
              "      <td>[6-8]</td>\n",
              "      <td>[6-8]</td>\n",
              "      <td>[6-8]</td>\n",
              "      <td>[6-8]</td>\n",
              "      <td>[0-5]</td>\n",
              "      <td>[0-5]</td>\n",
              "      <td>[6-8]</td>\n",
              "      <td>[6-8]</td>\n",
              "      <td>[0-5]</td>\n",
              "      <td>[6-8]</td>\n",
              "      <td>[6-8]</td>\n",
              "      <td>[6-8]</td>\n",
              "      <td>[6-8]</td>\n",
              "      <td>[0-5]</td>\n",
              "      <td>[0-5]</td>\n",
              "      <td>?</td>\n",
              "      <td>[0-0.33]</td>\n",
              "      <td>5</td>\n",
              "      <td>?</td>\n",
              "      <td>2</td>\n",
              "      <td>[5-6]</td>\n",
              "      <td>[0-3]</td>\n",
              "      <td>[0-2]</td>\n",
              "      <td>7</td>\n",
              "      <td>5</td>\n",
              "      <td>[6-8]</td>\n",
              "      <td>[5-6]</td>\n",
              "      <td>0</td>\n",
              "      <td>NaN</td>\n",
              "      <td>NaN</td>\n",
              "      <td>NaN</td>\n",
              "    </tr>\n",
              "    <tr>\n",
              "      <th>freq</th>\n",
              "      <td>NaN</td>\n",
              "      <td>NaN</td>\n",
              "      <td>4194</td>\n",
              "      <td>1037</td>\n",
              "      <td>1059</td>\n",
              "      <td>NaN</td>\n",
              "      <td>2406</td>\n",
              "      <td>4727</td>\n",
              "      <td>4722</td>\n",
              "      <td>NaN</td>\n",
              "      <td>2754</td>\n",
              "      <td>2944</td>\n",
              "      <td>3104</td>\n",
              "      <td>3111</td>\n",
              "      <td>521</td>\n",
              "      <td>1613</td>\n",
              "      <td>2184</td>\n",
              "      <td>2653</td>\n",
              "      <td>2164</td>\n",
              "      <td>1937</td>\n",
              "      <td>2001</td>\n",
              "      <td>3010</td>\n",
              "      <td>3820</td>\n",
              "      <td>4272</td>\n",
              "      <td>3870</td>\n",
              "      <td>6680</td>\n",
              "      <td>6085</td>\n",
              "      <td>1655</td>\n",
              "      <td>2045</td>\n",
              "      <td>2198</td>\n",
              "      <td>1657</td>\n",
              "      <td>1679</td>\n",
              "      <td>1462</td>\n",
              "      <td>4537</td>\n",
              "      <td>5192</td>\n",
              "      <td>5379</td>\n",
              "      <td>4645</td>\n",
              "      <td>4613</td>\n",
              "      <td>4690</td>\n",
              "      <td>1627</td>\n",
              "      <td>...</td>\n",
              "      <td>1359</td>\n",
              "      <td>1564</td>\n",
              "      <td>1967</td>\n",
              "      <td>1487</td>\n",
              "      <td>1723</td>\n",
              "      <td>1154</td>\n",
              "      <td>1483</td>\n",
              "      <td>3239</td>\n",
              "      <td>5219</td>\n",
              "      <td>3718</td>\n",
              "      <td>4147</td>\n",
              "      <td>4299</td>\n",
              "      <td>3994</td>\n",
              "      <td>3751</td>\n",
              "      <td>6109</td>\n",
              "      <td>3831</td>\n",
              "      <td>3659</td>\n",
              "      <td>4158</td>\n",
              "      <td>3906</td>\n",
              "      <td>4152</td>\n",
              "      <td>4179</td>\n",
              "      <td>3941</td>\n",
              "      <td>3975</td>\n",
              "      <td>5444</td>\n",
              "      <td>158</td>\n",
              "      <td>3063</td>\n",
              "      <td>2001</td>\n",
              "      <td>6578</td>\n",
              "      <td>1695</td>\n",
              "      <td>4036</td>\n",
              "      <td>7346</td>\n",
              "      <td>4514</td>\n",
              "      <td>1816</td>\n",
              "      <td>1799</td>\n",
              "      <td>4827</td>\n",
              "      <td>3199</td>\n",
              "      <td>7644</td>\n",
              "      <td>NaN</td>\n",
              "      <td>NaN</td>\n",
              "      <td>NaN</td>\n",
              "    </tr>\n",
              "    <tr>\n",
              "      <th>mean</th>\n",
              "      <td>0.87491</td>\n",
              "      <td>11.350919</td>\n",
              "      <td>NaN</td>\n",
              "      <td>NaN</td>\n",
              "      <td>NaN</td>\n",
              "      <td>4.185605</td>\n",
              "      <td>NaN</td>\n",
              "      <td>NaN</td>\n",
              "      <td>NaN</td>\n",
              "      <td>0.395799</td>\n",
              "      <td>NaN</td>\n",
              "      <td>NaN</td>\n",
              "      <td>NaN</td>\n",
              "      <td>NaN</td>\n",
              "      <td>NaN</td>\n",
              "      <td>NaN</td>\n",
              "      <td>NaN</td>\n",
              "      <td>NaN</td>\n",
              "      <td>NaN</td>\n",
              "      <td>NaN</td>\n",
              "      <td>NaN</td>\n",
              "      <td>NaN</td>\n",
              "      <td>NaN</td>\n",
              "      <td>NaN</td>\n",
              "      <td>NaN</td>\n",
              "      <td>NaN</td>\n",
              "      <td>NaN</td>\n",
              "      <td>NaN</td>\n",
              "      <td>NaN</td>\n",
              "      <td>NaN</td>\n",
              "      <td>NaN</td>\n",
              "      <td>NaN</td>\n",
              "      <td>NaN</td>\n",
              "      <td>NaN</td>\n",
              "      <td>NaN</td>\n",
              "      <td>NaN</td>\n",
              "      <td>NaN</td>\n",
              "      <td>NaN</td>\n",
              "      <td>NaN</td>\n",
              "      <td>NaN</td>\n",
              "      <td>...</td>\n",
              "      <td>NaN</td>\n",
              "      <td>NaN</td>\n",
              "      <td>NaN</td>\n",
              "      <td>NaN</td>\n",
              "      <td>NaN</td>\n",
              "      <td>NaN</td>\n",
              "      <td>NaN</td>\n",
              "      <td>NaN</td>\n",
              "      <td>NaN</td>\n",
              "      <td>NaN</td>\n",
              "      <td>NaN</td>\n",
              "      <td>NaN</td>\n",
              "      <td>NaN</td>\n",
              "      <td>NaN</td>\n",
              "      <td>NaN</td>\n",
              "      <td>NaN</td>\n",
              "      <td>NaN</td>\n",
              "      <td>NaN</td>\n",
              "      <td>NaN</td>\n",
              "      <td>NaN</td>\n",
              "      <td>NaN</td>\n",
              "      <td>NaN</td>\n",
              "      <td>NaN</td>\n",
              "      <td>NaN</td>\n",
              "      <td>NaN</td>\n",
              "      <td>NaN</td>\n",
              "      <td>NaN</td>\n",
              "      <td>NaN</td>\n",
              "      <td>NaN</td>\n",
              "      <td>NaN</td>\n",
              "      <td>NaN</td>\n",
              "      <td>NaN</td>\n",
              "      <td>NaN</td>\n",
              "      <td>NaN</td>\n",
              "      <td>NaN</td>\n",
              "      <td>NaN</td>\n",
              "      <td>NaN</td>\n",
              "      <td>0.419909</td>\n",
              "      <td>0.419551</td>\n",
              "      <td>0.164717</td>\n",
              "    </tr>\n",
              "    <tr>\n",
              "      <th>std</th>\n",
              "      <td>0.33084</td>\n",
              "      <td>5.995903</td>\n",
              "      <td>NaN</td>\n",
              "      <td>NaN</td>\n",
              "      <td>NaN</td>\n",
              "      <td>4.596171</td>\n",
              "      <td>NaN</td>\n",
              "      <td>NaN</td>\n",
              "      <td>NaN</td>\n",
              "      <td>0.489051</td>\n",
              "      <td>NaN</td>\n",
              "      <td>NaN</td>\n",
              "      <td>NaN</td>\n",
              "      <td>NaN</td>\n",
              "      <td>NaN</td>\n",
              "      <td>NaN</td>\n",
              "      <td>NaN</td>\n",
              "      <td>NaN</td>\n",
              "      <td>NaN</td>\n",
              "      <td>NaN</td>\n",
              "      <td>NaN</td>\n",
              "      <td>NaN</td>\n",
              "      <td>NaN</td>\n",
              "      <td>NaN</td>\n",
              "      <td>NaN</td>\n",
              "      <td>NaN</td>\n",
              "      <td>NaN</td>\n",
              "      <td>NaN</td>\n",
              "      <td>NaN</td>\n",
              "      <td>NaN</td>\n",
              "      <td>NaN</td>\n",
              "      <td>NaN</td>\n",
              "      <td>NaN</td>\n",
              "      <td>NaN</td>\n",
              "      <td>NaN</td>\n",
              "      <td>NaN</td>\n",
              "      <td>NaN</td>\n",
              "      <td>NaN</td>\n",
              "      <td>NaN</td>\n",
              "      <td>NaN</td>\n",
              "      <td>...</td>\n",
              "      <td>NaN</td>\n",
              "      <td>NaN</td>\n",
              "      <td>NaN</td>\n",
              "      <td>NaN</td>\n",
              "      <td>NaN</td>\n",
              "      <td>NaN</td>\n",
              "      <td>NaN</td>\n",
              "      <td>NaN</td>\n",
              "      <td>NaN</td>\n",
              "      <td>NaN</td>\n",
              "      <td>NaN</td>\n",
              "      <td>NaN</td>\n",
              "      <td>NaN</td>\n",
              "      <td>NaN</td>\n",
              "      <td>NaN</td>\n",
              "      <td>NaN</td>\n",
              "      <td>NaN</td>\n",
              "      <td>NaN</td>\n",
              "      <td>NaN</td>\n",
              "      <td>NaN</td>\n",
              "      <td>NaN</td>\n",
              "      <td>NaN</td>\n",
              "      <td>NaN</td>\n",
              "      <td>NaN</td>\n",
              "      <td>NaN</td>\n",
              "      <td>NaN</td>\n",
              "      <td>NaN</td>\n",
              "      <td>NaN</td>\n",
              "      <td>NaN</td>\n",
              "      <td>NaN</td>\n",
              "      <td>NaN</td>\n",
              "      <td>NaN</td>\n",
              "      <td>NaN</td>\n",
              "      <td>NaN</td>\n",
              "      <td>NaN</td>\n",
              "      <td>NaN</td>\n",
              "      <td>NaN</td>\n",
              "      <td>0.493573</td>\n",
              "      <td>0.493515</td>\n",
              "      <td>0.370947</td>\n",
              "    </tr>\n",
              "    <tr>\n",
              "      <th>min</th>\n",
              "      <td>0.00000</td>\n",
              "      <td>1.000000</td>\n",
              "      <td>NaN</td>\n",
              "      <td>NaN</td>\n",
              "      <td>NaN</td>\n",
              "      <td>0.000000</td>\n",
              "      <td>NaN</td>\n",
              "      <td>NaN</td>\n",
              "      <td>NaN</td>\n",
              "      <td>0.000000</td>\n",
              "      <td>NaN</td>\n",
              "      <td>NaN</td>\n",
              "      <td>NaN</td>\n",
              "      <td>NaN</td>\n",
              "      <td>NaN</td>\n",
              "      <td>NaN</td>\n",
              "      <td>NaN</td>\n",
              "      <td>NaN</td>\n",
              "      <td>NaN</td>\n",
              "      <td>NaN</td>\n",
              "      <td>NaN</td>\n",
              "      <td>NaN</td>\n",
              "      <td>NaN</td>\n",
              "      <td>NaN</td>\n",
              "      <td>NaN</td>\n",
              "      <td>NaN</td>\n",
              "      <td>NaN</td>\n",
              "      <td>NaN</td>\n",
              "      <td>NaN</td>\n",
              "      <td>NaN</td>\n",
              "      <td>NaN</td>\n",
              "      <td>NaN</td>\n",
              "      <td>NaN</td>\n",
              "      <td>NaN</td>\n",
              "      <td>NaN</td>\n",
              "      <td>NaN</td>\n",
              "      <td>NaN</td>\n",
              "      <td>NaN</td>\n",
              "      <td>NaN</td>\n",
              "      <td>NaN</td>\n",
              "      <td>...</td>\n",
              "      <td>NaN</td>\n",
              "      <td>NaN</td>\n",
              "      <td>NaN</td>\n",
              "      <td>NaN</td>\n",
              "      <td>NaN</td>\n",
              "      <td>NaN</td>\n",
              "      <td>NaN</td>\n",
              "      <td>NaN</td>\n",
              "      <td>NaN</td>\n",
              "      <td>NaN</td>\n",
              "      <td>NaN</td>\n",
              "      <td>NaN</td>\n",
              "      <td>NaN</td>\n",
              "      <td>NaN</td>\n",
              "      <td>NaN</td>\n",
              "      <td>NaN</td>\n",
              "      <td>NaN</td>\n",
              "      <td>NaN</td>\n",
              "      <td>NaN</td>\n",
              "      <td>NaN</td>\n",
              "      <td>NaN</td>\n",
              "      <td>NaN</td>\n",
              "      <td>NaN</td>\n",
              "      <td>NaN</td>\n",
              "      <td>NaN</td>\n",
              "      <td>NaN</td>\n",
              "      <td>NaN</td>\n",
              "      <td>NaN</td>\n",
              "      <td>NaN</td>\n",
              "      <td>NaN</td>\n",
              "      <td>NaN</td>\n",
              "      <td>NaN</td>\n",
              "      <td>NaN</td>\n",
              "      <td>NaN</td>\n",
              "      <td>NaN</td>\n",
              "      <td>NaN</td>\n",
              "      <td>NaN</td>\n",
              "      <td>0.000000</td>\n",
              "      <td>0.000000</td>\n",
              "      <td>0.000000</td>\n",
              "    </tr>\n",
              "    <tr>\n",
              "      <th>25%</th>\n",
              "      <td>1.00000</td>\n",
              "      <td>7.000000</td>\n",
              "      <td>NaN</td>\n",
              "      <td>NaN</td>\n",
              "      <td>NaN</td>\n",
              "      <td>1.000000</td>\n",
              "      <td>NaN</td>\n",
              "      <td>NaN</td>\n",
              "      <td>NaN</td>\n",
              "      <td>0.000000</td>\n",
              "      <td>NaN</td>\n",
              "      <td>NaN</td>\n",
              "      <td>NaN</td>\n",
              "      <td>NaN</td>\n",
              "      <td>NaN</td>\n",
              "      <td>NaN</td>\n",
              "      <td>NaN</td>\n",
              "      <td>NaN</td>\n",
              "      <td>NaN</td>\n",
              "      <td>NaN</td>\n",
              "      <td>NaN</td>\n",
              "      <td>NaN</td>\n",
              "      <td>NaN</td>\n",
              "      <td>NaN</td>\n",
              "      <td>NaN</td>\n",
              "      <td>NaN</td>\n",
              "      <td>NaN</td>\n",
              "      <td>NaN</td>\n",
              "      <td>NaN</td>\n",
              "      <td>NaN</td>\n",
              "      <td>NaN</td>\n",
              "      <td>NaN</td>\n",
              "      <td>NaN</td>\n",
              "      <td>NaN</td>\n",
              "      <td>NaN</td>\n",
              "      <td>NaN</td>\n",
              "      <td>NaN</td>\n",
              "      <td>NaN</td>\n",
              "      <td>NaN</td>\n",
              "      <td>NaN</td>\n",
              "      <td>...</td>\n",
              "      <td>NaN</td>\n",
              "      <td>NaN</td>\n",
              "      <td>NaN</td>\n",
              "      <td>NaN</td>\n",
              "      <td>NaN</td>\n",
              "      <td>NaN</td>\n",
              "      <td>NaN</td>\n",
              "      <td>NaN</td>\n",
              "      <td>NaN</td>\n",
              "      <td>NaN</td>\n",
              "      <td>NaN</td>\n",
              "      <td>NaN</td>\n",
              "      <td>NaN</td>\n",
              "      <td>NaN</td>\n",
              "      <td>NaN</td>\n",
              "      <td>NaN</td>\n",
              "      <td>NaN</td>\n",
              "      <td>NaN</td>\n",
              "      <td>NaN</td>\n",
              "      <td>NaN</td>\n",
              "      <td>NaN</td>\n",
              "      <td>NaN</td>\n",
              "      <td>NaN</td>\n",
              "      <td>NaN</td>\n",
              "      <td>NaN</td>\n",
              "      <td>NaN</td>\n",
              "      <td>NaN</td>\n",
              "      <td>NaN</td>\n",
              "      <td>NaN</td>\n",
              "      <td>NaN</td>\n",
              "      <td>NaN</td>\n",
              "      <td>NaN</td>\n",
              "      <td>NaN</td>\n",
              "      <td>NaN</td>\n",
              "      <td>NaN</td>\n",
              "      <td>NaN</td>\n",
              "      <td>NaN</td>\n",
              "      <td>0.000000</td>\n",
              "      <td>0.000000</td>\n",
              "      <td>0.000000</td>\n",
              "    </tr>\n",
              "    <tr>\n",
              "      <th>50%</th>\n",
              "      <td>1.00000</td>\n",
              "      <td>11.000000</td>\n",
              "      <td>NaN</td>\n",
              "      <td>NaN</td>\n",
              "      <td>NaN</td>\n",
              "      <td>3.000000</td>\n",
              "      <td>NaN</td>\n",
              "      <td>NaN</td>\n",
              "      <td>NaN</td>\n",
              "      <td>0.000000</td>\n",
              "      <td>NaN</td>\n",
              "      <td>NaN</td>\n",
              "      <td>NaN</td>\n",
              "      <td>NaN</td>\n",
              "      <td>NaN</td>\n",
              "      <td>NaN</td>\n",
              "      <td>NaN</td>\n",
              "      <td>NaN</td>\n",
              "      <td>NaN</td>\n",
              "      <td>NaN</td>\n",
              "      <td>NaN</td>\n",
              "      <td>NaN</td>\n",
              "      <td>NaN</td>\n",
              "      <td>NaN</td>\n",
              "      <td>NaN</td>\n",
              "      <td>NaN</td>\n",
              "      <td>NaN</td>\n",
              "      <td>NaN</td>\n",
              "      <td>NaN</td>\n",
              "      <td>NaN</td>\n",
              "      <td>NaN</td>\n",
              "      <td>NaN</td>\n",
              "      <td>NaN</td>\n",
              "      <td>NaN</td>\n",
              "      <td>NaN</td>\n",
              "      <td>NaN</td>\n",
              "      <td>NaN</td>\n",
              "      <td>NaN</td>\n",
              "      <td>NaN</td>\n",
              "      <td>NaN</td>\n",
              "      <td>...</td>\n",
              "      <td>NaN</td>\n",
              "      <td>NaN</td>\n",
              "      <td>NaN</td>\n",
              "      <td>NaN</td>\n",
              "      <td>NaN</td>\n",
              "      <td>NaN</td>\n",
              "      <td>NaN</td>\n",
              "      <td>NaN</td>\n",
              "      <td>NaN</td>\n",
              "      <td>NaN</td>\n",
              "      <td>NaN</td>\n",
              "      <td>NaN</td>\n",
              "      <td>NaN</td>\n",
              "      <td>NaN</td>\n",
              "      <td>NaN</td>\n",
              "      <td>NaN</td>\n",
              "      <td>NaN</td>\n",
              "      <td>NaN</td>\n",
              "      <td>NaN</td>\n",
              "      <td>NaN</td>\n",
              "      <td>NaN</td>\n",
              "      <td>NaN</td>\n",
              "      <td>NaN</td>\n",
              "      <td>NaN</td>\n",
              "      <td>NaN</td>\n",
              "      <td>NaN</td>\n",
              "      <td>NaN</td>\n",
              "      <td>NaN</td>\n",
              "      <td>NaN</td>\n",
              "      <td>NaN</td>\n",
              "      <td>NaN</td>\n",
              "      <td>NaN</td>\n",
              "      <td>NaN</td>\n",
              "      <td>NaN</td>\n",
              "      <td>NaN</td>\n",
              "      <td>NaN</td>\n",
              "      <td>NaN</td>\n",
              "      <td>0.000000</td>\n",
              "      <td>0.000000</td>\n",
              "      <td>0.000000</td>\n",
              "    </tr>\n",
              "    <tr>\n",
              "      <th>75%</th>\n",
              "      <td>1.00000</td>\n",
              "      <td>15.000000</td>\n",
              "      <td>NaN</td>\n",
              "      <td>NaN</td>\n",
              "      <td>NaN</td>\n",
              "      <td>5.000000</td>\n",
              "      <td>NaN</td>\n",
              "      <td>NaN</td>\n",
              "      <td>NaN</td>\n",
              "      <td>1.000000</td>\n",
              "      <td>NaN</td>\n",
              "      <td>NaN</td>\n",
              "      <td>NaN</td>\n",
              "      <td>NaN</td>\n",
              "      <td>NaN</td>\n",
              "      <td>NaN</td>\n",
              "      <td>NaN</td>\n",
              "      <td>NaN</td>\n",
              "      <td>NaN</td>\n",
              "      <td>NaN</td>\n",
              "      <td>NaN</td>\n",
              "      <td>NaN</td>\n",
              "      <td>NaN</td>\n",
              "      <td>NaN</td>\n",
              "      <td>NaN</td>\n",
              "      <td>NaN</td>\n",
              "      <td>NaN</td>\n",
              "      <td>NaN</td>\n",
              "      <td>NaN</td>\n",
              "      <td>NaN</td>\n",
              "      <td>NaN</td>\n",
              "      <td>NaN</td>\n",
              "      <td>NaN</td>\n",
              "      <td>NaN</td>\n",
              "      <td>NaN</td>\n",
              "      <td>NaN</td>\n",
              "      <td>NaN</td>\n",
              "      <td>NaN</td>\n",
              "      <td>NaN</td>\n",
              "      <td>NaN</td>\n",
              "      <td>...</td>\n",
              "      <td>NaN</td>\n",
              "      <td>NaN</td>\n",
              "      <td>NaN</td>\n",
              "      <td>NaN</td>\n",
              "      <td>NaN</td>\n",
              "      <td>NaN</td>\n",
              "      <td>NaN</td>\n",
              "      <td>NaN</td>\n",
              "      <td>NaN</td>\n",
              "      <td>NaN</td>\n",
              "      <td>NaN</td>\n",
              "      <td>NaN</td>\n",
              "      <td>NaN</td>\n",
              "      <td>NaN</td>\n",
              "      <td>NaN</td>\n",
              "      <td>NaN</td>\n",
              "      <td>NaN</td>\n",
              "      <td>NaN</td>\n",
              "      <td>NaN</td>\n",
              "      <td>NaN</td>\n",
              "      <td>NaN</td>\n",
              "      <td>NaN</td>\n",
              "      <td>NaN</td>\n",
              "      <td>NaN</td>\n",
              "      <td>NaN</td>\n",
              "      <td>NaN</td>\n",
              "      <td>NaN</td>\n",
              "      <td>NaN</td>\n",
              "      <td>NaN</td>\n",
              "      <td>NaN</td>\n",
              "      <td>NaN</td>\n",
              "      <td>NaN</td>\n",
              "      <td>NaN</td>\n",
              "      <td>NaN</td>\n",
              "      <td>NaN</td>\n",
              "      <td>NaN</td>\n",
              "      <td>NaN</td>\n",
              "      <td>1.000000</td>\n",
              "      <td>1.000000</td>\n",
              "      <td>0.000000</td>\n",
              "    </tr>\n",
              "    <tr>\n",
              "      <th>max</th>\n",
              "      <td>1.00000</td>\n",
              "      <td>21.000000</td>\n",
              "      <td>NaN</td>\n",
              "      <td>NaN</td>\n",
              "      <td>NaN</td>\n",
              "      <td>37.000000</td>\n",
              "      <td>NaN</td>\n",
              "      <td>NaN</td>\n",
              "      <td>NaN</td>\n",
              "      <td>1.000000</td>\n",
              "      <td>NaN</td>\n",
              "      <td>NaN</td>\n",
              "      <td>NaN</td>\n",
              "      <td>NaN</td>\n",
              "      <td>NaN</td>\n",
              "      <td>NaN</td>\n",
              "      <td>NaN</td>\n",
              "      <td>NaN</td>\n",
              "      <td>NaN</td>\n",
              "      <td>NaN</td>\n",
              "      <td>NaN</td>\n",
              "      <td>NaN</td>\n",
              "      <td>NaN</td>\n",
              "      <td>NaN</td>\n",
              "      <td>NaN</td>\n",
              "      <td>NaN</td>\n",
              "      <td>NaN</td>\n",
              "      <td>NaN</td>\n",
              "      <td>NaN</td>\n",
              "      <td>NaN</td>\n",
              "      <td>NaN</td>\n",
              "      <td>NaN</td>\n",
              "      <td>NaN</td>\n",
              "      <td>NaN</td>\n",
              "      <td>NaN</td>\n",
              "      <td>NaN</td>\n",
              "      <td>NaN</td>\n",
              "      <td>NaN</td>\n",
              "      <td>NaN</td>\n",
              "      <td>NaN</td>\n",
              "      <td>...</td>\n",
              "      <td>NaN</td>\n",
              "      <td>NaN</td>\n",
              "      <td>NaN</td>\n",
              "      <td>NaN</td>\n",
              "      <td>NaN</td>\n",
              "      <td>NaN</td>\n",
              "      <td>NaN</td>\n",
              "      <td>NaN</td>\n",
              "      <td>NaN</td>\n",
              "      <td>NaN</td>\n",
              "      <td>NaN</td>\n",
              "      <td>NaN</td>\n",
              "      <td>NaN</td>\n",
              "      <td>NaN</td>\n",
              "      <td>NaN</td>\n",
              "      <td>NaN</td>\n",
              "      <td>NaN</td>\n",
              "      <td>NaN</td>\n",
              "      <td>NaN</td>\n",
              "      <td>NaN</td>\n",
              "      <td>NaN</td>\n",
              "      <td>NaN</td>\n",
              "      <td>NaN</td>\n",
              "      <td>NaN</td>\n",
              "      <td>NaN</td>\n",
              "      <td>NaN</td>\n",
              "      <td>NaN</td>\n",
              "      <td>NaN</td>\n",
              "      <td>NaN</td>\n",
              "      <td>NaN</td>\n",
              "      <td>NaN</td>\n",
              "      <td>NaN</td>\n",
              "      <td>NaN</td>\n",
              "      <td>NaN</td>\n",
              "      <td>NaN</td>\n",
              "      <td>NaN</td>\n",
              "      <td>NaN</td>\n",
              "      <td>1.000000</td>\n",
              "      <td>1.000000</td>\n",
              "      <td>1.000000</td>\n",
              "    </tr>\n",
              "  </tbody>\n",
              "</table>\n",
              "<p>11 rows × 123 columns</p>\n",
              "</div>"
            ],
            "text/plain": [
              "          has_null         wave gender  ...     decision   decision_o        match\n",
              "count   8378.00000  8378.000000   8378  ...  8378.000000  8378.000000  8378.000000\n",
              "unique         NaN          NaN      2  ...          NaN          NaN          NaN\n",
              "top            NaN          NaN   male  ...          NaN          NaN          NaN\n",
              "freq           NaN          NaN   4194  ...          NaN          NaN          NaN\n",
              "mean       0.87491    11.350919    NaN  ...     0.419909     0.419551     0.164717\n",
              "std        0.33084     5.995903    NaN  ...     0.493573     0.493515     0.370947\n",
              "min        0.00000     1.000000    NaN  ...     0.000000     0.000000     0.000000\n",
              "25%        1.00000     7.000000    NaN  ...     0.000000     0.000000     0.000000\n",
              "50%        1.00000    11.000000    NaN  ...     0.000000     0.000000     0.000000\n",
              "75%        1.00000    15.000000    NaN  ...     1.000000     1.000000     0.000000\n",
              "max        1.00000    21.000000    NaN  ...     1.000000     1.000000     1.000000\n",
              "\n",
              "[11 rows x 123 columns]"
            ]
          },
          "metadata": {
            "tags": []
          },
          "execution_count": 8
        }
      ]
    },
    {
      "cell_type": "markdown",
      "metadata": {
        "id": "GRIGmEhHmGfa"
      },
      "source": [
        "Из описательной статистики, приведенной выше, можно сделать некоторые выводы о данных. Во-первых, средний возраст участников 26 лет, средняя разница в возрасте партнеров составляет 4 года. Партнеры обычно не представляли одну и ту же расу, и одна и та же раса или религия не были столь важны для респондентов.\n",
        "\n",
        "Что касается предпочтений партнера, лишь немногие из них считают, что привлекательность важна на 100%, в то время как чувство юмора, искренность, амбиции и интеллект важны максимум на 50%. Самооценка привлекательности, чувства юмора и других характеристик людей в среднем выше, чем у партнеров.\n",
        "\n",
        "Наконец, в среднем опрошенным понравился свой партнер только на 60%, однако были те, кому партнер понравился полностью по всем качествам (100%). Большинство участников не встречались раньше, и более половины людей решили больше не встречаться. К сожалению, меньше половины участников подошли друг другу в результате эксперимента."
      ]
    },
    {
      "cell_type": "markdown",
      "metadata": {
        "id": "VJJD39TGrKeD"
      },
      "source": [
        "##Чистка данных: продолжение\n",
        "\n",
        "Было решено исключить переменные, которые, как предполагается, не влияют на вероятность совместимости двух людей. Например, я не верю, что самооценка привлекательности, интеллекта и т. д. может существенно повлиять на вероятность совместимости, поскольку речь идет о том, как вы оцениваете своего партнера и как партнер оценивает вас. Важность некоторых характеристик для респондента или партнера также не учитывается, так как это мало говорит о возможном совпадении. Кроме того, кажется необоснованным включать такие переменные, как возраст или раса, поскольку мы включили разницу в возрасте и фиктивную переменнуюдля совпадения по расе. Таким образом, существенными для модели являются 16 переменных.\n",
        "\n",
        "\n",
        "**d_age**: *разница в возрасте*\n",
        "\n",
        "**samerace**: *1, если раса одинаковая, 0 - в противном случае*\n",
        "\n",
        "**attractive_o**: *Как партнер оценивает мою привлекательность? [0; 10]*\n",
        "\n",
        "**sinsere_o**: *Как партнер оценивает мою искренность? [0; 10]*\n",
        "\n",
        "**intelligence_o**: *Как партнер оценивает мой ум? [0; 10]*\n",
        "\n",
        "**funny_o**: *Как партнер оценивает мое чувство юмора? [0; 10]* \n",
        "\n",
        "**ambitous_o**: *Как партнер оценивает мою амбициознось? [0; 10]* \n",
        "\n",
        "**shared_interests_o**: *Разделяю ли я интересы партнера? [0; 10]*\n",
        "\n",
        "**attractive_partner**: *привлекательность партнера, [0; 10]*  \n",
        "\n",
        "**sincere_partner**: *искренность партнера, [0; 10]* \n",
        "\n",
        "**intelligence_partner**: *ум партнера, [0; 10]* \n",
        "\n",
        "**funny_partner**: *чувство юмора партнера, [0; 10]* \n",
        "\n",
        "**ambition_partner**: *амбициозность партнера, [0; 10]*  \n",
        "\n",
        "**shared_interests_partner**: *Разделяет ли партнер мои интересы? [0; 10]*\n",
        "\n",
        "**interests_correlate**: *общие интересы* \n",
        "\n",
        "**like**: *Насколько мне понравился партнер? [0; 10]*  \n",
        "\n",
        "\n",
        "\n",
        "\n"
      ]
    },
    {
      "cell_type": "code",
      "metadata": {
        "id": "cETX7huj1brk"
      },
      "source": [
        "#уберем лишние столбцы\n",
        "new_data = dataset.drop(['has_null',\t'wave',\t'gender',\t'age',\t'age_o',\t'd_d_age',\t'race',\t'race_o',\t'importance_same_race',\t'importance_same_religion',\t'd_importance_same_race',\t'd_importance_same_religion',\t'field',\t'pref_o_attractive',\t'pref_o_sincere',\t'pref_o_intelligence',\t'pref_o_funny',\t'pref_o_ambitious',\t'pref_o_shared_interests',\t'd_pref_o_attractive',\t'd_pref_o_sincere',\t'd_pref_o_intelligence',\t'd_pref_o_ambitious',\t'd_pref_o_shared_interests',\t'd_attractive_o',\t'd_sinsere_o',\t'd_intelligence_o',\t'd_funny_o',\t'd_ambitous_o',\t'd_shared_interests_o',\t'attractive_important',\t'sincere_important',\t'intellicence_important',\t'funny_important',\t'ambtition_important',\t'shared_interests_important',\t'd_attractive_important',\t'd_sincere_important',\t'd_intellicence_important', 'clubbing',\t'reading',\t'tv',\t'theater',\t'movies',\t'concerts',\t'music',\t'shopping',\t'yoga',\t'd_sports',\t'd_tvsports',\t'd_exercise',\t'd_dining',\t'd_museums',\t'd_art',\t'd_hiking',\t'd_gaming',\t'd_clubbing',\t'd_reading',\t'd_tv',\t'd_theater',\t'd_movies',\t'd_concerts',\t'd_music',\t'd_shopping',\t'd_yoga',\t'd_interests_correlate',\t'expected_happy_with_sd_people',\t'expected_num_interested_in_me',\t'expected_num_matches',\t'd_expected_happy_with_sd_people',\t'd_expected_num_interested_in_me',\t'd_expected_num_matches',\t'guess_prob_liked',\t'd_like',\t'd_guess_prob_liked',\t'met',\t'decision',\t'decision_o','d_pref_o_funny',\t'd_funny_important',\t'd_ambtition_important',\t'd_shared_interests_important',\t'attractive',\t'sincere',\t'intelligence',\t'funny',\t'ambition',\t'd_attractive',\t'd_sincere',\t'd_intelligence',\t'd_funny',\t'd_ambition',\t'd_attractive_partner',\t'd_sincere_partner',\t'd_intelligence_partner',\t'd_funny_partner',\t'd_ambition_partner',\t'd_shared_interests_partner',\t'sports',\t'tvsports',\t'exercise',\t'dining',\t'museums',\t'art',\t'hiking',\t'gaming'], axis = 1)"
      ],
      "execution_count": null,
      "outputs": []
    },
    {
      "cell_type": "code",
      "metadata": {
        "id": "8WiHaWnW2tLu",
        "colab": {
          "base_uri": "https://localhost:8080/",
          "height": 224
        },
        "outputId": "cf66b341-9a31-44e8-a5a3-a5683caf0f7a"
      },
      "source": [
        "new_data.head()"
      ],
      "execution_count": null,
      "outputs": [
        {
          "output_type": "execute_result",
          "data": {
            "text/html": [
              "<div>\n",
              "<style scoped>\n",
              "    .dataframe tbody tr th:only-of-type {\n",
              "        vertical-align: middle;\n",
              "    }\n",
              "\n",
              "    .dataframe tbody tr th {\n",
              "        vertical-align: top;\n",
              "    }\n",
              "\n",
              "    .dataframe thead th {\n",
              "        text-align: right;\n",
              "    }\n",
              "</style>\n",
              "<table border=\"1\" class=\"dataframe\">\n",
              "  <thead>\n",
              "    <tr style=\"text-align: right;\">\n",
              "      <th></th>\n",
              "      <th>d_age</th>\n",
              "      <th>samerace</th>\n",
              "      <th>attractive_o</th>\n",
              "      <th>sinsere_o</th>\n",
              "      <th>intelligence_o</th>\n",
              "      <th>funny_o</th>\n",
              "      <th>ambitous_o</th>\n",
              "      <th>shared_interests_o</th>\n",
              "      <th>attractive_partner</th>\n",
              "      <th>sincere_partner</th>\n",
              "      <th>intelligence_partner</th>\n",
              "      <th>funny_partner</th>\n",
              "      <th>ambition_partner</th>\n",
              "      <th>shared_interests_partner</th>\n",
              "      <th>interests_correlate</th>\n",
              "      <th>like</th>\n",
              "      <th>match</th>\n",
              "    </tr>\n",
              "  </thead>\n",
              "  <tbody>\n",
              "    <tr>\n",
              "      <th>0</th>\n",
              "      <td>6</td>\n",
              "      <td>0</td>\n",
              "      <td>6</td>\n",
              "      <td>8</td>\n",
              "      <td>8</td>\n",
              "      <td>8</td>\n",
              "      <td>8</td>\n",
              "      <td>6</td>\n",
              "      <td>6</td>\n",
              "      <td>9</td>\n",
              "      <td>7</td>\n",
              "      <td>7</td>\n",
              "      <td>6</td>\n",
              "      <td>5</td>\n",
              "      <td>0.14</td>\n",
              "      <td>7</td>\n",
              "      <td>0</td>\n",
              "    </tr>\n",
              "    <tr>\n",
              "      <th>1</th>\n",
              "      <td>1</td>\n",
              "      <td>0</td>\n",
              "      <td>7</td>\n",
              "      <td>8</td>\n",
              "      <td>10</td>\n",
              "      <td>7</td>\n",
              "      <td>7</td>\n",
              "      <td>5</td>\n",
              "      <td>7</td>\n",
              "      <td>8</td>\n",
              "      <td>7</td>\n",
              "      <td>8</td>\n",
              "      <td>5</td>\n",
              "      <td>6</td>\n",
              "      <td>0.54</td>\n",
              "      <td>7</td>\n",
              "      <td>0</td>\n",
              "    </tr>\n",
              "    <tr>\n",
              "      <th>2</th>\n",
              "      <td>1</td>\n",
              "      <td>1</td>\n",
              "      <td>10</td>\n",
              "      <td>10</td>\n",
              "      <td>10</td>\n",
              "      <td>10</td>\n",
              "      <td>10</td>\n",
              "      <td>10</td>\n",
              "      <td>5</td>\n",
              "      <td>8</td>\n",
              "      <td>9</td>\n",
              "      <td>8</td>\n",
              "      <td>5</td>\n",
              "      <td>7</td>\n",
              "      <td>0.16</td>\n",
              "      <td>7</td>\n",
              "      <td>1</td>\n",
              "    </tr>\n",
              "    <tr>\n",
              "      <th>3</th>\n",
              "      <td>2</td>\n",
              "      <td>0</td>\n",
              "      <td>7</td>\n",
              "      <td>8</td>\n",
              "      <td>9</td>\n",
              "      <td>8</td>\n",
              "      <td>9</td>\n",
              "      <td>8</td>\n",
              "      <td>7</td>\n",
              "      <td>6</td>\n",
              "      <td>8</td>\n",
              "      <td>7</td>\n",
              "      <td>6</td>\n",
              "      <td>8</td>\n",
              "      <td>0.61</td>\n",
              "      <td>7</td>\n",
              "      <td>1</td>\n",
              "    </tr>\n",
              "    <tr>\n",
              "      <th>4</th>\n",
              "      <td>3</td>\n",
              "      <td>0</td>\n",
              "      <td>8</td>\n",
              "      <td>7</td>\n",
              "      <td>9</td>\n",
              "      <td>6</td>\n",
              "      <td>9</td>\n",
              "      <td>7</td>\n",
              "      <td>5</td>\n",
              "      <td>6</td>\n",
              "      <td>7</td>\n",
              "      <td>7</td>\n",
              "      <td>6</td>\n",
              "      <td>6</td>\n",
              "      <td>0.21</td>\n",
              "      <td>6</td>\n",
              "      <td>1</td>\n",
              "    </tr>\n",
              "  </tbody>\n",
              "</table>\n",
              "</div>"
            ],
            "text/plain": [
              "   d_age  samerace attractive_o  ... interests_correlate like match\n",
              "0      6         0            6  ...                0.14    7     0\n",
              "1      1         0            7  ...                0.54    7     0\n",
              "2      1         1           10  ...                0.16    7     1\n",
              "3      2         0            7  ...                0.61    7     1\n",
              "4      3         0            8  ...                0.21    6     1\n",
              "\n",
              "[5 rows x 17 columns]"
            ]
          },
          "metadata": {
            "tags": []
          },
          "execution_count": 93
        }
      ]
    },
    {
      "cell_type": "markdown",
      "metadata": {
        "id": "WK0QAWM5-n6C"
      },
      "source": [
        "##Чистка данных: пропущенные переменные\n",
        "\n",
        "Пропущенные значения представляют собой знак \"?\""
      ]
    },
    {
      "cell_type": "code",
      "metadata": {
        "id": "2X7ksmxg9D1T",
        "colab": {
          "base_uri": "https://localhost:8080/",
          "height": 34
        },
        "outputId": "e730b756-51a2-42b7-89d5-7712420c426e"
      },
      "source": [
        "new_data.isna().sum()[new_data.isna().sum()>0]"
      ],
      "execution_count": null,
      "outputs": [
        {
          "output_type": "execute_result",
          "data": {
            "text/plain": [
              "Series([], dtype: int64)"
            ]
          },
          "metadata": {
            "tags": []
          },
          "execution_count": 35
        }
      ]
    },
    {
      "cell_type": "markdown",
      "metadata": {
        "id": "3GihUooxEdE2"
      },
      "source": [
        "Посмотрим по разным параметрам:"
      ]
    },
    {
      "cell_type": "code",
      "metadata": {
        "id": "CpMO8eZ2Dx7W",
        "colab": {
          "base_uri": "https://localhost:8080/",
          "height": 68
        },
        "outputId": "ff00122a-3907-4590-ee8b-64f280bdf13b"
      },
      "source": [
        "new_data.samerace.value_counts()\n",
        "#нет пропущенных значений"
      ],
      "execution_count": null,
      "outputs": [
        {
          "output_type": "execute_result",
          "data": {
            "text/plain": [
              "0    5062\n",
              "1    3316\n",
              "Name: samerace, dtype: int64"
            ]
          },
          "metadata": {
            "tags": []
          },
          "execution_count": 43
        }
      ]
    },
    {
      "cell_type": "code",
      "metadata": {
        "id": "58-MF-EBevqR",
        "colab": {
          "base_uri": "https://localhost:8080/",
          "height": 68
        },
        "outputId": "5a1a84f9-6169-4e79-e47b-b1cc323f3e87"
      },
      "source": [
        "new_data.match.value_counts()\n",
        "#нет пропущенных значений"
      ],
      "execution_count": null,
      "outputs": [
        {
          "output_type": "execute_result",
          "data": {
            "text/plain": [
              "0    6998\n",
              "1    1380\n",
              "Name: match, dtype: int64"
            ]
          },
          "metadata": {
            "tags": []
          },
          "execution_count": 94
        }
      ]
    },
    {
      "cell_type": "code",
      "metadata": {
        "id": "UaIj3t48E69e",
        "colab": {
          "base_uri": "https://localhost:8080/",
          "height": 629
        },
        "outputId": "a5a1c779-a2b9-4dfc-cf6f-a726923e545a"
      },
      "source": [
        "new_data.d_age.value_counts()\n",
        "#нет пропущенных значений"
      ],
      "execution_count": null,
      "outputs": [
        {
          "output_type": "execute_result",
          "data": {
            "text/plain": [
              "1     1548\n",
              "2     1286\n",
              "3     1120\n",
              "4      970\n",
              "5      758\n",
              "0      679\n",
              "6      588\n",
              "7      416\n",
              "8      268\n",
              "9      186\n",
              "10     132\n",
              "11      72\n",
              "12      38\n",
              "22      30\n",
              "14      30\n",
              "13      26\n",
              "30      22\n",
              "29      20\n",
              "27      18\n",
              "25      16\n",
              "21      16\n",
              "17      14\n",
              "24      14\n",
              "23      14\n",
              "15      12\n",
              "26      12\n",
              "28      12\n",
              "16      12\n",
              "20      11\n",
              "34      10\n",
              "19       9\n",
              "32       8\n",
              "18       5\n",
              "36       4\n",
              "37       2\n",
              "Name: d_age, dtype: int64"
            ]
          },
          "metadata": {
            "tags": []
          },
          "execution_count": 45
        }
      ]
    },
    {
      "cell_type": "code",
      "metadata": {
        "id": "gDuck7m4ElI7",
        "colab": {
          "base_uri": "https://localhost:8080/",
          "height": 357
        },
        "outputId": "ba4dcedc-1912-406b-b9dd-23c544576228"
      },
      "source": [
        "new_data.like.value_counts()\n",
        "#количество пропущенных значений: 240"
      ],
      "execution_count": null,
      "outputs": [
        {
          "output_type": "execute_result",
          "data": {
            "text/plain": [
              "7      1816\n",
              "6      1709\n",
              "5      1319\n",
              "8      1274\n",
              "4       645\n",
              "9       412\n",
              "3       396\n",
              "?       240\n",
              "2       223\n",
              "10      182\n",
              "1       110\n",
              "6.5      20\n",
              "8.5       9\n",
              "0         8\n",
              "7.5       6\n",
              "9.5       3\n",
              "4.5       3\n",
              "5.5       2\n",
              "9.7       1\n",
              "Name: like, dtype: int64"
            ]
          },
          "metadata": {
            "tags": []
          },
          "execution_count": 44
        }
      ]
    },
    {
      "cell_type": "code",
      "metadata": {
        "id": "KfSvKl41AM7m",
        "colab": {
          "base_uri": "https://localhost:8080/",
          "height": 306
        },
        "outputId": "e406d5d4-7293-42f3-cf4d-b61542ee3bad"
      },
      "source": [
        "new_data.shared_interests_partner.value_counts()\n",
        "#количество пропущенных значений: 1067"
      ],
      "execution_count": null,
      "outputs": [
        {
          "output_type": "execute_result",
          "data": {
            "text/plain": [
              "5      1465\n",
              "6      1248\n",
              "7      1150\n",
              "?      1067\n",
              "4       783\n",
              "8       771\n",
              "3       588\n",
              "2       485\n",
              "9       317\n",
              "1       239\n",
              "10      197\n",
              "0        59\n",
              "7.5       4\n",
              "6.5       2\n",
              "8.5       2\n",
              "5.5       1\n",
              "Name: shared_interests_partner, dtype: int64"
            ]
          },
          "metadata": {
            "tags": []
          },
          "execution_count": 40
        }
      ]
    },
    {
      "cell_type": "markdown",
      "metadata": {
        "id": "0mA4P6NoFGSg"
      },
      "source": [
        "Заметим, что по некоторым параметрам есть внушительное количество пропущенных значений. Но так как все переменные, кроме возраста и расы(где пропущенных значений нет) представляют собой оценку респондентов по числовой шкале от худшего к лучшему, можем предположить, что, если человек не дал ответа, его оценка приравнивается к 0. Заменим пропущенные значения в датасете на 0. Данное преобразование незначительно влияет на оценку."
      ]
    },
    {
      "cell_type": "code",
      "metadata": {
        "id": "7-zl5zFj_J4M"
      },
      "source": [
        "new_data=new_data.replace({'?': 0 })"
      ],
      "execution_count": null,
      "outputs": []
    },
    {
      "cell_type": "markdown",
      "metadata": {
        "id": "cvahLXMGzr3h"
      },
      "source": [
        "##Посмотрим на графики распределения:\n",
        "\n",
        "\n",
        "> На каждом графике расположим  по 4 гистограммы.\n",
        "\n"
      ]
    },
    {
      "cell_type": "code",
      "metadata": {
        "id": "2Om9Tnz8y4pj",
        "colab": {
          "base_uri": "https://localhost:8080/",
          "height": 594
        },
        "outputId": "17416752-1699-4a17-e48a-2e0a01b78ae5"
      },
      "source": [
        "import random \n",
        "import numpy \n",
        "from matplotlib import pyplot \n",
        "\n",
        "x = [random.gauss(3,1) for d_age in range(400)] \n",
        "y = [random.gauss(4,2) for samerace in range(400)] \n",
        "z = [random.gauss(5,3) for like in range(400)]\n",
        "m = [random.gauss(6,4) for attractive_o in range(400)]\n",
        "\n",
        "bins = numpy.linspace(-10, 10, 100) \n",
        "\n",
        "pyplot.hist(x, bins, alpha=0.5, label='d_age') \n",
        "pyplot.hist(y, bins, alpha=0.5, label='samerace') \n",
        "pyplot.hist(z, bins, alpha=0.5, label='like')\n",
        "pyplot.hist(m, bins, alpha=0.5, label='attractive_o')\n",
        "pyplot.legend(loc='upper right') \n",
        "pyplot.show()\n",
        " \n"
      ],
      "execution_count": null,
      "outputs": [
        {
          "output_type": "display_data",
          "data": {
            "image/png": "[encoded data removed]",
            "text/plain": [
              "<Figure size 1152x720 with 1 Axes>"
            ]
          },
          "metadata": {
            "tags": []
          }
        }
      ]
    },
    {
      "cell_type": "code",
      "metadata": {
        "id": "7AAt8br70nmg",
        "colab": {
          "base_uri": "https://localhost:8080/",
          "height": 594
        },
        "outputId": "1971b7e7-9c8c-42f3-a68a-56325d89c7e1"
      },
      "source": [
        "import random \n",
        "import numpy \n",
        "from matplotlib import pyplot \n",
        "\n",
        "x = [random.gauss(3,1) for sinsere_o in range(400)] \n",
        "y = [random.gauss(4,2) for intelligence_o in range(400)] \n",
        "z = [random.gauss(5,3) for funny_o in range(400)]\n",
        "m = [random.gauss(6,4) for ambitous_o in range(400)]\n",
        "\n",
        "bins = numpy.linspace(-10, 10, 100) \n",
        "\n",
        "pyplot.hist(x, bins, alpha=0.5, label='sinsere_o') \n",
        "pyplot.hist(y, bins, alpha=0.5, label='intelligence_o') \n",
        "pyplot.hist(z, bins, alpha=0.5, label='funny_o')\n",
        "pyplot.hist(m, bins, alpha=0.5, label='ambitous_o')\n",
        "pyplot.legend(loc='upper right') \n",
        "pyplot.show()\n",
        " "
      ],
      "execution_count": null,
      "outputs": [
        {
          "output_type": "display_data",
          "data": {
            "image/png": "[encoded data removed]",
            "text/plain": [
              "<Figure size 1152x720 with 1 Axes>"
            ]
          },
          "metadata": {
            "tags": []
          }
        }
      ]
    },
    {
      "cell_type": "code",
      "metadata": {
        "id": "oS1Iapnf1UMx",
        "colab": {
          "base_uri": "https://localhost:8080/",
          "height": 594
        },
        "outputId": "98ba7f71-a892-4fae-a041-847366715626"
      },
      "source": [
        "import random \n",
        "import numpy \n",
        "from matplotlib import pyplot \n",
        "\n",
        "x = [random.gauss(3,1) for shared_interests_o in range(400)] \n",
        "y = [random.gauss(4,2) for attractive_partner in range(400)] \n",
        "z = [random.gauss(5,3) for sincere_partner in range(400)]\n",
        "m = [random.gauss(6,4) for intelligence_partner in range(400)]\n",
        "\n",
        "bins = numpy.linspace(-10, 10, 100) \n",
        "\n",
        "pyplot.hist(x, bins, alpha=0.5, label='shared_interests_o') \n",
        "pyplot.hist(y, bins, alpha=0.5, label='attractive_partner') \n",
        "pyplot.hist(z, bins, alpha=0.5, label='sincere_partner')\n",
        "pyplot.hist(m, bins, alpha=0.5, label='intelligence_partner')\n",
        "pyplot.legend(loc='upper right') \n",
        "pyplot.show()"
      ],
      "execution_count": null,
      "outputs": [
        {
          "output_type": "display_data",
          "data": {
            "image/png": "[encoded data removed]",
            "text/plain": [
              "<Figure size 1152x720 with 1 Axes>"
            ]
          },
          "metadata": {
            "tags": []
          }
        }
      ]
    },
    {
      "cell_type": "code",
      "metadata": {
        "id": "sTWvym1f2nuy",
        "colab": {
          "base_uri": "https://localhost:8080/",
          "height": 594
        },
        "outputId": "1b490b3b-fe32-4a8c-9fd1-aff12e4dcc0d"
      },
      "source": [
        "import random \n",
        "import numpy \n",
        "from matplotlib import pyplot \n",
        "\t\t\t\t\n",
        "x = [random.gauss(3,1) for funny_partner in range(400)] \n",
        "y = [random.gauss(4,2) for ambition_partner in range(400)] \n",
        "z = [random.gauss(5,3) for shared_interests_partner in range(400)]\n",
        "m = [random.gauss(6,4) for interests_correlate in range(400)]\n",
        "\n",
        "bins = numpy.linspace(-10, 10, 100) \n",
        "\n",
        "pyplot.hist(x, bins, alpha=0.5, label='funny_partner') \n",
        "pyplot.hist(y, bins, alpha=0.5, label='ambition_partner') \n",
        "pyplot.hist(z, bins, alpha=0.5, label='shared_interests_partner')\n",
        "pyplot.hist(m, bins, alpha=0.5, label='interests_correlate')\n",
        "pyplot.legend(loc='upper right') \n",
        "pyplot.show()"
      ],
      "execution_count": null,
      "outputs": [
        {
          "output_type": "display_data",
          "data": {
            "image/png": "[encoded data removed]",
            "text/plain": [
              "<Figure size 1152x720 with 1 Axes>"
            ]
          },
          "metadata": {
            "tags": []
          }
        }
      ]
    },
    {
      "cell_type": "code",
      "metadata": {
        "id": "HJzL0Fl33HWN",
        "colab": {
          "base_uri": "https://localhost:8080/",
          "height": 594
        },
        "outputId": "805f8a74-ed80-4d4d-d9a0-7ad5171b069c"
      },
      "source": [
        "#зависимая переменная\n",
        "import random \n",
        "import numpy \n",
        "from matplotlib import pyplot \n",
        "\t\t\t\t\n",
        "x = [random.gauss(3,1) for match in range(400)] \n",
        "\n",
        "bins = numpy.linspace(-10, 10, 100) \n",
        "\n",
        "pyplot.hist(x, bins, alpha=0.5, label='match') \n",
        "\n",
        "pyplot.legend(loc='upper right') \n",
        "pyplot.show()"
      ],
      "execution_count": null,
      "outputs": [
        {
          "output_type": "display_data",
          "data": {
            "image/png": "[encoded data removed]",
            "text/plain": [
              "<Figure size 1152x720 with 1 Axes>"
            ]
          },
          "metadata": {
            "tags": []
          }
        }
      ]
    },
    {
      "cell_type": "markdown",
      "metadata": {
        "id": "8NZAd3At37Vo"
      },
      "source": [
        "Все переменные имеют распределение близкое к нормальному."
      ]
    },
    {
      "cell_type": "markdown",
      "metadata": {
        "id": "LL8VqFNIHaQI"
      },
      "source": [
        "# 2.   Гипотезы исследования"
      ]
    },
    {
      "cell_type": "markdown",
      "metadata": {
        "id": "ulM9RU_sHpUX"
      },
      "source": [
        "Прежде чем строить модели и сделать некоторые выводы, выдвинем несколько предложений:\n",
        "\n",
        "*1. Разница в возрасте отрицательно влияет на вероятность совместимости: чем больше разница в возрасте, тем меньше вероятность совпадения людей.*\n",
        "\n",
        "*2. Чем выше корреляция в интересах, тем выше вероятность совместимости.*\n",
        "\n",
        "*3. Оценки, данные респондентом о своем партнере, положительно влияют на вероятность совпадения: чем выше показатели привлекательности, чувства юмора, интеллекта, искренности, амбиций и общих интересов, тем выше вероятность того, что хотя бы один человек из пары захочет встретиться снова.*\n",
        "\n",
        "*4. Оценки, выставленные респонденту его партнером, положительно влияют на вероятность совпадения, поскольку чем выше рейтинг партнера, тем больше вероятность совместимости.*\n",
        "\n",
        "*5. Наконец, если респондент написал, что ему / ей понравился партнер, вероятность того, что у них будет совместимость, увеличивается на 50% => положительное влияние.*"
      ]
    },
    {
      "cell_type": "markdown",
      "metadata": {
        "id": "i5Bo9PY4It3g"
      },
      "source": [
        "# 3. Моделирование"
      ]
    },
    {
      "cell_type": "code",
      "metadata": {
        "id": "U7WWuweuOFFJ"
      },
      "source": [
        "from sklearn.model_selection import train_test_split\n",
        "from sklearn.linear_model import LinearRegression\n",
        "from sklearn.linear_model import Ridge\n",
        "from sklearn import preprocessing\n",
        "from sklearn.linear_model import LogisticRegression"
      ],
      "execution_count": null,
      "outputs": []
    },
    {
      "cell_type": "markdown",
      "metadata": {
        "id": "dZZOqcb2OUL6"
      },
      "source": [
        "Прежде всего, разделим данные на две выборки: тестовую и обучающую.  Обучающая выборка необходима для построения модели, которая «понимает» взаимосвязи, а тестовая выборка помогает нам оценить, как обученная модель работает с новыми данными. 80% наблюдений направим на обучение, а оставшиеся 20% оставим для проверки точности модели.\n",
        " "
      ]
    },
    {
      "cell_type": "code",
      "metadata": {
        "id": "EMAQVAzXOnh4"
      },
      "source": [
        "y = new_data['match'].values"
      ],
      "execution_count": null,
      "outputs": []
    },
    {
      "cell_type": "code",
      "metadata": {
        "id": "r2GNAqvtO363",
        "colab": {
          "base_uri": "https://localhost:8080/",
          "height": 255
        },
        "outputId": "5f52f701-b5fc-4616-cc5e-d3f075333b4f"
      },
      "source": [
        "x = new_data.iloc[:, 0:16]\n",
        "print(x)"
      ],
      "execution_count": null,
      "outputs": [
        {
          "output_type": "stream",
          "text": [
            "      d_age  samerace  ... interests_correlate like\n",
            "0         6         0  ...                0.14    7\n",
            "1         1         0  ...                0.54    7\n",
            "2         1         1  ...                0.16    7\n",
            "3         2         0  ...                0.61    7\n",
            "4         3         0  ...                0.21    6\n",
            "...     ...       ...  ...                 ...  ...\n",
            "8373      1         0  ...                0.64    2\n",
            "8374      1         0  ...                0.71    4\n",
            "8375      4         0  ...               -0.46    6\n",
            "8376      3         0  ...                0.62    5\n",
            "8377      3         0  ...                0.01    4\n",
            "\n",
            "[8378 rows x 16 columns]\n"
          ],
          "name": "stdout"
        }
      ]
    },
    {
      "cell_type": "code",
      "metadata": {
        "id": "KWx_oDFZPbvQ"
      },
      "source": [
        "x_train, x_test, y_train, y_test = train_test_split(x, y, test_size = 1/5, random_state = 0)"
      ],
      "execution_count": null,
      "outputs": []
    },
    {
      "cell_type": "markdown",
      "metadata": {
        "id": "rQBmqvMZQ00Y"
      },
      "source": [
        "*   ##  *Построение линейной регрессии*\n",
        "\n",
        "\n"
      ]
    },
    {
      "cell_type": "code",
      "metadata": {
        "id": "oL3n7AsyRSsp",
        "colab": {
          "base_uri": "https://localhost:8080/",
          "height": 102
        },
        "outputId": "c87e5b79-335b-4236-af65-cb7b430a9349"
      },
      "source": [
        "regdate = LinearRegression()\n",
        "regdate.fit(x_train,y_train)\n",
        "regdate.intercept_, regdate.coef_"
      ],
      "execution_count": null,
      "outputs": [
        {
          "output_type": "execute_result",
          "data": {
            "text/plain": [
              "(-0.31924992520101025,\n",
              " array([-0.00143925, -0.01068177,  0.0293032 , -0.00666377, -0.00202789,\n",
              "         0.01898513, -0.00911524,  0.01179284,  0.01743949, -0.00952441,\n",
              "        -0.00317028,  0.01618834, -0.00844178,  0.00696713,  0.02142086,\n",
              "         0.02716452]))"
            ]
          },
          "metadata": {
            "tags": []
          },
          "execution_count": 100
        }
      ]
    },
    {
      "cell_type": "code",
      "metadata": {
        "id": "jaR67aqgRupI",
        "colab": {
          "base_uri": "https://localhost:8080/",
          "height": 34
        },
        "outputId": "6fc83293-3af7-4d56-f50b-505be3e35ed2"
      },
      "source": [
        "#посмотрим на показатель R^2\n",
        "regdate.score(x_train,y_train)"
      ],
      "execution_count": null,
      "outputs": [
        {
          "output_type": "execute_result",
          "data": {
            "text/plain": [
              "0.1705890063459763"
            ]
          },
          "metadata": {
            "tags": []
          },
          "execution_count": 101
        }
      ]
    },
    {
      "cell_type": "markdown",
      "metadata": {
        "id": "EE-di51USIdv"
      },
      "source": [
        "Сильно приближенное к 1, значение R^2 говорит нам о некорректности модели, так как получить идеальное значение доли объясненной дисперсии очень маловероятно на практике. Малое значение ниже 0,5 говорит о плохой модели.\n",
        "В нашем случае мы получили очень слабую модель.  \n"
      ]
    },
    {
      "cell_type": "markdown",
      "metadata": {
        "id": "TQR4HAPCTL-R"
      },
      "source": [
        "Посмотрим на другие спецификации регрессионных моделей. "
      ]
    },
    {
      "cell_type": "markdown",
      "metadata": {
        "id": "Ucw2wmkndaAc"
      },
      "source": [
        "*   ##  *Построение ридж регрессии*\n",
        "\n"
      ]
    },
    {
      "cell_type": "code",
      "metadata": {
        "id": "K4mVq3YVsyCL",
        "colab": {
          "base_uri": "https://localhost:8080/",
          "height": 102
        },
        "outputId": "37cafaf3-451f-46fe-d6be-2d838d35cb63"
      },
      "source": [
        "regR = Ridge(alpha = 1)\n",
        "regR.fit(x_train,y_train)\n",
        "regR.intercept_, regR.coef_"
      ],
      "execution_count": null,
      "outputs": [
        {
          "output_type": "execute_result",
          "data": {
            "text/plain": [
              "(-0.3192456758289247,\n",
              " array([-0.00143931, -0.01067417,  0.02930168, -0.00666288, -0.0020274 ,\n",
              "         0.01898458, -0.0091148 ,  0.01179287,  0.017439  , -0.00952327,\n",
              "        -0.00316982,  0.01618812, -0.00844153,  0.00696742,  0.02138508,\n",
              "         0.02716288]))"
            ]
          },
          "metadata": {
            "tags": []
          },
          "execution_count": 110
        }
      ]
    },
    {
      "cell_type": "code",
      "metadata": {
        "id": "nua7gHdHtB_d",
        "colab": {
          "base_uri": "https://localhost:8080/",
          "height": 34
        },
        "outputId": "687d896f-2224-42e8-c57f-225b6af3e980"
      },
      "source": [
        "regR.score(x_train,y_train)"
      ],
      "execution_count": null,
      "outputs": [
        {
          "output_type": "execute_result",
          "data": {
            "text/plain": [
              "0.17058900528748433"
            ]
          },
          "metadata": {
            "tags": []
          },
          "execution_count": 111
        }
      ]
    },
    {
      "cell_type": "markdown",
      "metadata": {
        "id": "6KDRP0uWuG_d"
      },
      "source": [
        "Эта модель также показывает низкое значение R^2."
      ]
    },
    {
      "cell_type": "markdown",
      "metadata": {
        "id": "61Qxf1b2tPzA"
      },
      "source": [
        "Так как наша зависимая переменная - дамми, то лучше всего для решения проблемы бинарной классификации будет рассмотреть логистическую регрессию."
      ]
    },
    {
      "cell_type": "markdown",
      "metadata": {
        "id": "diU6yhUWVDCT"
      },
      "source": [
        "* ## *Построение логистической регрессии*\n",
        "\n"
      ]
    },
    {
      "cell_type": "code",
      "metadata": {
        "id": "wkQ9uUNLZ1yz",
        "colab": {
          "base_uri": "https://localhost:8080/",
          "height": 156
        },
        "outputId": "1e50cd99-c7ae-492c-f039-f53c4e4fdecb"
      },
      "source": [
        "classifier = LogisticRegression(solver='lbfgs',random_state=0)\n",
        "classifier.fit(x_train, y_train)\n",
        "classifier.intercept_, classifier.coef_"
      ],
      "execution_count": null,
      "outputs": [
        {
          "output_type": "stream",
          "text": [
            "/usr/local/lib/python3.6/dist-packages/sklearn/linear_model/logistic.py:947: ConvergenceWarning: lbfgs failed to converge. Increase the number of iterations.\n",
            "  \"of iterations.\", ConvergenceWarning)\n"
          ],
          "name": "stderr"
        },
        {
          "output_type": "execute_result",
          "data": {
            "text/plain": [
              "(array([-9.42320842]),\n",
              " array([[-0.02453101, -0.10955252,  0.31868599, -0.01256048,  0.05926793,\n",
              "          0.19338259, -0.07405964,  0.0897752 ,  0.19129678, -0.04106671,\n",
              "          0.04085673,  0.15347949, -0.06652478,  0.04230604,  0.14491404,\n",
              "          0.31006174]]))"
            ]
          },
          "metadata": {
            "tags": []
          },
          "execution_count": 108
        }
      ]
    },
    {
      "cell_type": "markdown",
      "metadata": {
        "id": "PMYjCpc5m8ZR"
      },
      "source": [
        "Соотнесем коэффициенты с регрессорами:\n",
        "\n",
        "d_age: -0.02453101\n",
        "\n",
        "samerace: -0.10955252\n",
        "\n",
        "attractive_o: 0.31868599\n",
        "\n",
        "sinsere_o: -0.01256048\n",
        "\n",
        "intelligence_o: 0.05926793\n",
        "\n",
        "funny_o: 0.19338259\n",
        "\n",
        "ambitous_o: -0.07405964\n",
        "\n",
        "shared_interests_o: 0.0897752\n",
        "\n",
        "attractive_partner: 0.19129678\n",
        "\n",
        "sincere_partner: -0.04106671\n",
        "\n",
        "intelligence_partner: 0.04085673  \n",
        "\n",
        "funny_partner: 0.15347949 \n",
        "\n",
        "ambition_partner: -0.06652478\n",
        "\n",
        "shared_interests_partner: 0.04230604\n",
        "\n",
        "interests_correlate: 0.14491404\n",
        "\n",
        "like: 0.31006174"
      ]
    },
    {
      "cell_type": "markdown",
      "metadata": {
        "id": "TOQQcX1Ja1xS"
      },
      "source": [
        "Нам нужно протестировать созданный выше классификатор, прежде чем мы используем его в прогнозировании. Если тестирование показывает, что модель не соответствует требуемой точности, нам придется вернуться в вышеописанном процессе, выбрать другой набор функций (поля данных), построить модель снова и протестировать ее. Будем делать это до тех пор, пока классификатор не удовлетворит нашему требованию желаемой точности."
      ]
    },
    {
      "cell_type": "markdown",
      "metadata": {
        "id": "EoFtXWuCbOQC"
      },
      "source": [
        "*Чтобы проверить классификатор, мы используем тестовые данные, сгенерированные на более ранней стадии. Мы вызываем метод прогнозирования для созданного объекта и передаем массив X тестовых данных*"
      ]
    },
    {
      "cell_type": "code",
      "metadata": {
        "id": "UgVN-R6_bXMH"
      },
      "source": [
        "predicted_y = classifier.predict(x_test)"
      ],
      "execution_count": null,
      "outputs": []
    },
    {
      "cell_type": "code",
      "metadata": {
        "id": "1kqJx1r3iAps",
        "colab": {
          "base_uri": "https://localhost:8080/",
          "height": 34
        },
        "outputId": "21bbc498-bd91-4972-889c-786e324228b6"
      },
      "source": [
        "predicted_y"
      ],
      "execution_count": null,
      "outputs": [
        {
          "output_type": "execute_result",
          "data": {
            "text/plain": [
              "array([0, 0, 0, ..., 0, 0, 0])"
            ]
          },
          "metadata": {
            "tags": []
          },
          "execution_count": 105
        }
      ]
    },
    {
      "cell_type": "markdown",
      "metadata": {
        "id": "d6j0iccpiUID"
      },
      "source": [
        "Вывод показывает, что первые и последние три респондента не смогли составить пару после быстрого свидания. Рассмотрим весь массив."
      ]
    },
    {
      "cell_type": "code",
      "metadata": {
        "id": "-XLS3VkxifzZ",
        "colab": {
          "base_uri": "https://localhost:8080/",
          "height": 54
        },
        "outputId": "acd4a60a-f451-4e92-be44-228a801e3da9"
      },
      "source": [
        "for x in range(len(predicted_y)):\n",
        "   if (predicted_y[x] == 1):\n",
        "      print(x, end=\"\\t\")"
      ],
      "execution_count": null,
      "outputs": [
        {
          "output_type": "stream",
          "text": [
            "5\t11\t34\t37\t41\t47\t71\t72\t75\t82\t85\t91\t95\t97\t113\t121\t124\t151\t166\t169\t190\t200\t261\t274\t333\t339\t378\t391\t422\t427\t454\t455\t471\t481\t494\t529\t537\t553\t554\t574\t631\t633\t660\t664\t669\t679\t684\t689\t692\t712\t733\t755\t797\t803\t815\t824\t825\t828\t860\t892\t911\t927\t955\t968\t996\t999\t1001\t1002\t1011\t1054\t1057\t1074\t1108\t1116\t1124\t1130\t1138\t1139\t1177\t1182\t1208\t1239\t1250\t1260\t1276\t1278\t1279\t1297\t1301\t1317\t1332\t1362\t1366\t1380\t1382\t1383\t1385\t1386\t1423\t1429\t1431\t1432\t1445\t1455\t1458\t1466\t1467\t1469\t1491\t1524\t1531\t1545\t1549\t1555\t1566\t1568\t1575\t1583\t1585\t1594\t1596\t1604\t1611\t1628\t1638\t1653\t1663\t1665\t1666\t"
          ],
          "name": "stdout"
        }
      ]
    },
    {
      "cell_type": "markdown",
      "metadata": {
        "id": "Jgyzmho-i0zB"
      },
      "source": [
        "Выходные данные показывают индексы всех строк, в которых у респондента с партнером была максимальная совместимость."
      ]
    },
    {
      "cell_type": "code",
      "metadata": {
        "id": "bCrrhrOrjG5L",
        "colab": {
          "base_uri": "https://localhost:8080/",
          "height": 34
        },
        "outputId": "4c8d8625-e159-47c0-fc2f-c6c876cdc2a8"
      },
      "source": [
        "#проверка точности модели на тестовой выборке\n",
        "print('Accuracy: {:.2f}'.format(classifier.score(x_test, y_test)))"
      ],
      "execution_count": null,
      "outputs": [
        {
          "output_type": "stream",
          "text": [
            "Accuracy: 0.86\n"
          ],
          "name": "stdout"
        }
      ]
    },
    {
      "cell_type": "markdown",
      "metadata": {
        "id": "GGkrADYEjX9C"
      },
      "source": [
        "Это показывает, что точность нашей модели составляет 86%, что считается очень хорошим в большинстве приложений. Таким образом, приложение, основанное на нашей модели, дальнейшей настройки не требует и может заинтересовать брачные агетства и другие организации, специализирующиеся на мероприятиях по созданию семей. При вводе личных параметров модель будет выдавать положительный либо отрицательный результат совместимости."
      ]
    },
    {
      "cell_type": "markdown",
      "metadata": {
        "id": "8yRyKQkhlhKB"
      },
      "source": [
        "# 4. Выводы по гипотезам исследования\n",
        "\n",
        "*смотрим на коэффициенты при переменных*\n",
        "\n",
        "1. Во-первых, разница в возрасте отрицательно влияет на вероятность совместимости. (*d_age: -0.02453101*)\n",
        "\n",
        "2. Во-вторых, что касается соотношения интересов, то более высокая корреляция интересов приводит к более высокой вероятности совпадения. (*interests_correlate: 0.14491404*)\n",
        "\n",
        "3. Чем привлекательнее и веселее партнер, тем больше вероятность совпадения. (*attractive_partner: 0.1912967, funny_partner: 0.15347949*) Амбициозные и искренние партнеры оказали негативное влияние на совместимость. (*sincere_partner: -0.04106671, ambition_partner: -0.06652478*) Общие интересы также сыграли положительную роль (*shared_interests_o: 0.0897752, shared_interests_partner: 0.04230604*), но наиболее влиятельным фактором оказалась привлекательность партнера.\n",
        "\n",
        "4. Более того, для партнера также важна привлекательность респондента. (*attractive_o: 0.31868599*)\n",
        "\n",
        "5. Таким образом, общее восприятие, измеряемое «одинаковыми» переменными, а также общие интересы и привлекательность, сыграло основную роль в подборе пар во время быстрого знакомства в соответствии с нашей логистической моделью."
      ]
    }
  ]
}